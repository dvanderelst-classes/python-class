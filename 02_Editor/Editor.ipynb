{
 "cells": [
  {
   "cell_type": "markdown",
   "metadata": {
    "toc": true
   },
   "source": [
    "<h1>Table of Contents<span class=\"tocSkip\"></span></h1>\n",
    "<div class=\"toc\"><ul class=\"toc-item\"><li><span><a href=\"#Using-the-console\" data-toc-modified-id=\"Using-the-console-1\">Using the console</a></span><ul class=\"toc-item\"><li><span><a href=\"#Elementary-Calculations\" data-toc-modified-id=\"Elementary-Calculations-1.1\">Elementary Calculations</a></span></li><li><span><a href=\"#Comparisons-and-Boolean-Logic\" data-toc-modified-id=\"Comparisons-and-Boolean-Logic-1.2\">Comparisons and Boolean Logic</a></span></li><li><span><a href=\"#Variable-assignment\" data-toc-modified-id=\"Variable-assignment-1.3\">Variable assignment</a></span><ul class=\"toc-item\"><li><span><a href=\"#Numbers\" data-toc-modified-id=\"Numbers-1.3.1\">Numbers</a></span></li><li><span><a href=\"#Text\" data-toc-modified-id=\"Text-1.3.2\">Text</a></span></li><li><span><a href=\"#Boolean-value\" data-toc-modified-id=\"Boolean-value-1.3.3\">Boolean value</a></span></li></ul></li></ul></li><li><span><a href=\"#Basic-variable-types\" data-toc-modified-id=\"Basic-variable-types-2\">Basic variable types</a></span></li><li><span><a href=\"#Introduction-to-functions\" data-toc-modified-id=\"Introduction-to-functions-3\">Introduction to functions</a></span></li><li><span><a href=\"#Exercises\" data-toc-modified-id=\"Exercises-4\">Exercises</a></span><ul class=\"toc-item\"><li><span><a href=\"#Exercise-1\" data-toc-modified-id=\"Exercise-1-4.1\">Exercise 1</a></span></li><li><span><a href=\"#Exercise-2\" data-toc-modified-id=\"Exercise-2-4.2\">Exercise 2</a></span></li><li><span><a href=\"#Exercise-3\" data-toc-modified-id=\"Exercise-3-4.3\">Exercise 3</a></span></li><li><span><a href=\"#Exercise-4\" data-toc-modified-id=\"Exercise-4-4.4\">Exercise 4</a></span></li><li><span><a href=\"#Exercise-5\" data-toc-modified-id=\"Exercise-5-4.5\">Exercise 5</a></span></li></ul></li></ul></div>"
   ]
  },
  {
   "cell_type": "markdown",
   "metadata": {
    "nbpresent": {
     "id": "2f0efe72-0f55-4099-8ff3-bf33aa1a034b"
    }
   },
   "source": [
    "# Editor\n",
    "\n",
    "+ Slides giving an overview of the editor (see https://tinyurl.com/pgbs-gslides).\n",
    "\n",
    "## Using the console\n",
    "\n",
    "### Elementary Calculations\n",
    "\n",
    "We can use the console to perform elementary operations."
   ]
  },
  {
   "cell_type": "code",
   "execution_count": 3,
   "metadata": {
    "nbpresent": {
     "id": "3773a4f5-00fe-42fe-84ca-0f4a0fc3ec89"
    }
   },
   "outputs": [
    {
     "data": {
      "text/plain": [
       "12"
      ]
     },
     "execution_count": 3,
     "metadata": {},
     "output_type": "execute_result"
    }
   ],
   "source": [
    "5+7"
   ]
  },
  {
   "cell_type": "code",
   "execution_count": 4,
   "metadata": {
    "nbpresent": {
     "id": "854578bd-158d-4b7a-a481-f828acf81fed"
    }
   },
   "outputs": [
    {
     "data": {
      "text/plain": [
       "0.5833333333333334"
      ]
     },
     "execution_count": 4,
     "metadata": {},
     "output_type": "execute_result"
    }
   ],
   "source": [
    "7/12"
   ]
  },
  {
   "cell_type": "code",
   "execution_count": 5,
   "metadata": {
    "nbpresent": {
     "id": "9da1b01e-82d6-4342-8f1d-06a45c1b35e7"
    }
   },
   "outputs": [
    {
     "data": {
      "text/plain": [
       "7.0"
      ]
     },
     "execution_count": 5,
     "metadata": {},
     "output_type": "execute_result"
    }
   ],
   "source": [
    "(7/12) * 12"
   ]
  },
  {
   "cell_type": "code",
   "execution_count": 6,
   "metadata": {
    "nbpresent": {
     "id": "0000a667-b72e-4c17-a4c6-4c6d5319277a"
    }
   },
   "outputs": [
    {
     "data": {
      "text/plain": [
       "5"
      ]
     },
     "execution_count": 6,
     "metadata": {},
     "output_type": "execute_result"
    }
   ],
   "source": [
    "7^2 #Bitwise XOR, not power as you might expect (see https://en.wikipedia.org/wiki/Bitwise_operation#XOR)"
   ]
  },
  {
   "cell_type": "code",
   "execution_count": 7,
   "metadata": {
    "nbpresent": {
     "id": "7d11870b-2967-41d5-8c7a-6c46aa325127"
    }
   },
   "outputs": [
    {
     "data": {
      "text/plain": [
       "49"
      ]
     },
     "execution_count": 7,
     "metadata": {},
     "output_type": "execute_result"
    }
   ],
   "source": [
    "7 ** 2 #This is how you raise to the power"
   ]
  },
  {
   "cell_type": "markdown",
   "metadata": {},
   "source": [
    "### Comparisons and Boolean Logic"
   ]
  },
  {
   "cell_type": "markdown",
   "metadata": {
    "nbpresent": {
     "id": "2f1135f8-0a16-4160-abb4-f85a1cbe7a8b"
    }
   },
   "source": [
    "Python can also do comparisons:\n",
    "\n",
    "+ \\> Greater than\n",
    "+ < Less than\n",
    "+ == Equal to\n",
    "+ != Not equal to\n",
    "+ \\>= Greater than or equal to\n",
    "+ <= Less than or equal to\n",
    "\n",
    "Python will determine whether a statement is True of False."
   ]
  },
  {
   "cell_type": "code",
   "execution_count": 8,
   "metadata": {
    "nbpresent": {
     "id": "0687d7f1-c71c-4dce-9796-866e419e887f"
    }
   },
   "outputs": [
    {
     "data": {
      "text/plain": [
       "False"
      ]
     },
     "execution_count": 8,
     "metadata": {},
     "output_type": "execute_result"
    }
   ],
   "source": [
    "(((17*3)/2)**2) * 1000 == ((3*1)**6) * 10"
   ]
  },
  {
   "cell_type": "code",
   "execution_count": 9,
   "metadata": {
    "nbpresent": {
     "id": "b13f7dca-a5f3-459d-a59d-c6fca093ff40"
    }
   },
   "outputs": [
    {
     "data": {
      "text/plain": [
       "True"
      ]
     },
     "execution_count": 9,
     "metadata": {},
     "output_type": "execute_result"
    }
   ],
   "source": [
    "(((17*3)/2)**2) * 1000 != ((3*1)**6) * 10"
   ]
  },
  {
   "cell_type": "markdown",
   "metadata": {},
   "source": [
    "Python can also do Boolean logic:\n",
    "\n",
    "+ and\n",
    "+ or\n",
    "+ not"
   ]
  },
  {
   "cell_type": "code",
   "execution_count": 10,
   "metadata": {},
   "outputs": [
    {
     "name": "stdout",
     "output_type": "stream",
     "text": [
      "True\n",
      "True\n",
      "False\n"
     ]
    }
   ],
   "source": [
    "print (1==1 and 2==2)\n",
    "print (1==1 or 1==2)\n",
    "print (not(1==1 and 2==2))"
   ]
  },
  {
   "cell_type": "markdown",
   "metadata": {
    "nbpresent": {
     "id": "c9a2616d-da2c-4724-b97b-3758935cdd2e"
    }
   },
   "source": [
    "### Variable assignment\n",
    "\n",
    "We can assign numbers to variables. This allows us to reuse them at at later stage.\n",
    "\n",
    "#### Numbers"
   ]
  },
  {
   "cell_type": "code",
   "execution_count": 11,
   "metadata": {},
   "outputs": [
    {
     "name": "stdout",
     "output_type": "stream",
     "text": [
      "10\n",
      "30\n"
     ]
    },
    {
     "data": {
      "text/plain": [
       "False"
      ]
     },
     "execution_count": 11,
     "metadata": {},
     "output_type": "execute_result"
    }
   ],
   "source": [
    "a = 10\n",
    "b = 30\n",
    "print(a)\n",
    "print(b)\n",
    "a > b"
   ]
  },
  {
   "cell_type": "code",
   "execution_count": 12,
   "metadata": {},
   "outputs": [
    {
     "data": {
      "text/plain": [
       "40"
      ]
     },
     "execution_count": 12,
     "metadata": {},
     "output_type": "execute_result"
    }
   ],
   "source": [
    "a + b"
   ]
  },
  {
   "cell_type": "code",
   "execution_count": 13,
   "metadata": {},
   "outputs": [
    {
     "data": {
      "text/plain": [
       "1000000000000000000000000000000"
      ]
     },
     "execution_count": 13,
     "metadata": {},
     "output_type": "execute_result"
    }
   ],
   "source": [
    "a ** b"
   ]
  },
  {
   "cell_type": "markdown",
   "metadata": {},
   "source": [
    "#### Text\n",
    "\n",
    "Text can also be assigned to a variable."
   ]
  },
  {
   "cell_type": "code",
   "execution_count": 14,
   "metadata": {},
   "outputs": [],
   "source": [
    "a = 'this is text'"
   ]
  },
  {
   "cell_type": "markdown",
   "metadata": {},
   "source": [
    "#### Boolean value\n",
    "\n",
    "Boolean values are either True or False."
   ]
  },
  {
   "cell_type": "code",
   "execution_count": 15,
   "metadata": {},
   "outputs": [
    {
     "data": {
      "text/plain": [
       "True"
      ]
     },
     "execution_count": 15,
     "metadata": {},
     "output_type": "execute_result"
    }
   ],
   "source": [
    "a = 2 > 1\n",
    "a"
   ]
  },
  {
   "cell_type": "code",
   "execution_count": 16,
   "metadata": {},
   "outputs": [
    {
     "data": {
      "text/plain": [
       "False"
      ]
     },
     "execution_count": 16,
     "metadata": {},
     "output_type": "execute_result"
    }
   ],
   "source": [
    "b = False\n",
    "b"
   ]
  },
  {
   "cell_type": "markdown",
   "metadata": {},
   "source": [
    "## Note on naming variables\n",
    "\n",
    "Altered from R for Data Science:\n",
    "\n",
    "*There\\'s an implied contract between you and [PYTHON]: it will do the tedious\n",
    "computation for you, but in return, you must be completely precise in\n",
    "your instructions. Typos matter. Case matters.*\n",
    "\n",
    "Also, it is important that you use names that are not keywords or functions in Python. For example, the following is a bad idea:"
   ]
  },
  {
   "cell_type": "code",
   "execution_count": 17,
   "metadata": {},
   "outputs": [],
   "source": [
    "#len = 123 #BAD BAD"
   ]
  },
  {
   "cell_type": "markdown",
   "metadata": {},
   "source": [
    "Try to use descriptive names for variables. And try to stick to a naming convention that works for you - preferably one that makes your code easy to read."
   ]
  },
  {
   "cell_type": "code",
   "execution_count": 18,
   "metadata": {},
   "outputs": [],
   "source": [
    "i_like_snake_case = 'snake_case'\n",
    "otherPeopleUseCamelCase = 'CamelCase'\n",
    "And_aFewPeople_RENOUNCEconvention = 'Madness, Madness, I tell you!'"
   ]
  },
  {
   "cell_type": "markdown",
   "metadata": {},
   "source": [
    "## Basic variable types"
   ]
  },
  {
   "cell_type": "markdown",
   "metadata": {},
   "source": [
    "+ Slides introducing variable types (See https://tinyurl.com/pgbs-gslides).\n",
    "+ Inspecting variables in Spyder"
   ]
  },
  {
   "cell_type": "markdown",
   "metadata": {},
   "source": [
    "## Introduction to functions\n",
    "\n",
    "+ Slides introduction to functions (https://tinyurl.com/pgbs-gslides).\n"
   ]
  },
  {
   "cell_type": "code",
   "execution_count": 19,
   "metadata": {},
   "outputs": [
    {
     "data": {
      "text/plain": [
       "10"
      ]
     },
     "execution_count": 19,
     "metadata": {},
     "output_type": "execute_result"
    }
   ],
   "source": [
    "abs(-10)"
   ]
  },
  {
   "cell_type": "code",
   "execution_count": 20,
   "metadata": {},
   "outputs": [
    {
     "data": {
      "text/plain": [
       "10"
      ]
     },
     "execution_count": 20,
     "metadata": {},
     "output_type": "execute_result"
    }
   ],
   "source": [
    "round(10.4)"
   ]
  },
  {
   "cell_type": "code",
   "execution_count": 21,
   "metadata": {},
   "outputs": [
    {
     "data": {
      "text/plain": [
       "int"
      ]
     },
     "execution_count": 21,
     "metadata": {},
     "output_type": "execute_result"
    }
   ],
   "source": [
    "type(1)"
   ]
  },
  {
   "cell_type": "markdown",
   "metadata": {},
   "source": [
    "## Exercises\n",
    "\n",
    "### Exercise 1 \n",
    "\n",
    "1. Assign your name to a variable `my_name`.\n",
    "\n",
    "2. Multiply the variable by 3. What happens?\n",
    "\n",
    "3. Try adding 4 to `my_name`. What happens?\n",
    "\n",
    "4. Assign the value `10` to a variable, for example `var1`. What is the type of this variable?\n",
    "\n",
    "5. Divide `var1` by 2.5 and assign the result to `var2`. What is the type of var2?\n",
    "\n",
    "6. Multiply `var2` by 2.5 and assign the result to `var3`. What is the type of `var3`?\n",
    "\n",
    "7. What code assigns the value 10 to a variable named `my_value`?\n",
    "\n",
    "8. Assign the value `10.5` to a variable. Round the variable and assign the result to a new variable.\n",
    "\n",
    "### Exercise 2\n",
    "\n",
    "Write code that assigns value 10 to variable `value1` and value 20 to `value2`. Test whether `value1` is larger than `value2`. Print out the result of the test.\n",
    "\n",
    "### Exercise 3\n",
    "\n",
    "When running the following code, what will be the type of variable `var1`?\n",
    "\n",
    "```python\n",
    "var1 = 10\n",
    "```\n",
    "\n",
    "Options: Float, Integer, Boolean, or String\n",
    "\n",
    "### Exercise 4\n",
    "\n",
    " When running the following code, what will be the type of variable `var1`?\n",
    "\n",
    "```python\n",
    "var1 = 12.345\n",
    "```\n",
    "\n",
    "Options: Float, Integer, Boolean, or String\n",
    "\n",
    "### Exercise 5\n",
    "\n",
    "When running the following code, what will be the type of variable `var1`?\n",
    "\n",
    "```python\n",
    "var1 = 10 > var2\n",
    "```\n",
    "\n",
    "Options: Float, Integer, Boolean, or String"
   ]
  },
  {
   "cell_type": "code",
   "execution_count": null,
   "metadata": {},
   "outputs": [],
   "source": []
  }
 ],
 "metadata": {
  "anaconda-cloud": {},
  "kernelspec": {
   "display_name": "Python 3 (ipykernel)",
   "language": "python",
   "name": "python3"
  },
  "language_info": {
   "codemirror_mode": {
    "name": "ipython",
    "version": 3
   },
   "file_extension": ".py",
   "mimetype": "text/x-python",
   "name": "python",
   "nbconvert_exporter": "python",
   "pygments_lexer": "ipython3",
   "version": "3.7.13"
  },
  "nav_menu": {},
  "toc": {
   "base_numbering": 1,
   "nav_menu": {
    "height": "171px",
    "width": "252px"
   },
   "number_sections": false,
   "sideBar": true,
   "skip_h1_title": true,
   "title_cell": "Table of Contents",
   "title_sidebar": "Contents",
   "toc_cell": true,
   "toc_position": {
    "height": "732px",
    "left": "49px",
    "top": "214.133px",
    "width": "384px"
   },
   "toc_section_display": true,
   "toc_window_display": true
  },
  "toc_position": {
   "height": "534px",
   "left": "0px",
   "right": "812px",
   "top": "107px",
   "width": "212px"
  },
  "varInspector": {
   "cols": {
    "lenName": 16,
    "lenType": 16,
    "lenVar": 40
   },
   "kernels_config": {
    "python": {
     "delete_cmd_postfix": "",
     "delete_cmd_prefix": "del ",
     "library": "var_list.py",
     "varRefreshCmd": "print(var_dic_list())"
    },
    "r": {
     "delete_cmd_postfix": ") ",
     "delete_cmd_prefix": "rm(",
     "library": "var_list.r",
     "varRefreshCmd": "cat(var_dic_list()) "
    }
   },
   "types_to_exclude": [
    "module",
    "function",
    "builtin_function_or_method",
    "instance",
    "_Feature"
   ],
   "window_display": false
  }
 },
 "nbformat": 4,
 "nbformat_minor": 1
}
