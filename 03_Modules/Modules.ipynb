{
 "cells": [
  {
   "cell_type": "markdown",
   "metadata": {
    "toc": "true"
   },
   "source": [
    "<h1>Table of Contents<span class=\"tocSkip\"></span></h1>\n",
    "<div class=\"toc\"><ul class=\"toc-item\"><li><span><a href=\"#The-Math-Module\" data-toc-modified-id=\"The-Math-Module-1\">The Math Module</a></span><ul class=\"toc-item\"><li><span><a href=\"#Functions\" data-toc-modified-id=\"Functions-1.1\">Functions</a></span></li><li><span><a href=\"#Constants\" data-toc-modified-id=\"Constants-1.2\">Constants</a></span></li></ul></li><li><span><a href=\"#The-Random-Module\" data-toc-modified-id=\"The-Random-Module-2\">The Random Module</a></span></li><li><span><a href=\"#The-Time-Module\" data-toc-modified-id=\"The-Time-Module-3\">The Time Module</a></span><ul class=\"toc-item\"><li><span><a href=\"#Timing-things\" data-toc-modified-id=\"Timing-things-3.1\">Timing things</a></span></li><li><span><a href=\"#Printing-the-time\" data-toc-modified-id=\"Printing-the-time-3.2\">Printing the time</a></span></li></ul></li><li><span><a href=\"#Your-first-program\" data-toc-modified-id=\"Your-first-program-4\">Your first program</a></span></li><li><span><a href=\"#Exercises\" data-toc-modified-id=\"Exercises-5\">Exercises</a></span><ul class=\"toc-item\"><li><span><a href=\"#Exercise-1\" data-toc-modified-id=\"Exercise-1-5.1\">Exercise 1</a></span></li><li><span><a href=\"#Exercise-2\" data-toc-modified-id=\"Exercise-2-5.2\">Exercise 2</a></span></li><li><span><a href=\"#Exercise-2b\" data-toc-modified-id=\"Exercise-2b-5.3\">Exercise 2b</a></span></li><li><span><a href=\"#Exercise-3\" data-toc-modified-id=\"Exercise-3-5.4\">Exercise 3</a></span></li><li><span><a href=\"#Exercise-4\" data-toc-modified-id=\"Exercise-4-5.5\">Exercise 4</a></span></li><li><span><a href=\"#Exercise-5\" data-toc-modified-id=\"Exercise-5-5.6\">Exercise 5</a></span></li><li><span><a href=\"#Exercise-6\" data-toc-modified-id=\"Exercise-6-5.7\">Exercise 6</a></span></li></ul></li></ul></div>"
   ]
  },
  {
   "cell_type": "markdown",
   "metadata": {},
   "source": [
    "# Modules\n",
    "See Google slides for an introduction on modules.\n",
    "\n",
    "\n",
    "Starting from the concept of a function, we will introduce modules as additional sets of functions. Python comes standard with a large number of modules, listed here: https://docs.python.org/3/py-modindex.html. However, we installed anaconda Python which comes with even more additional modules, listed here: https://docs.continuum.io/anaconda/pkg-docs.\n",
    "\n",
    "## The Math Module\n",
    "\n",
    "The Math module is a standard Python module. See https://docs.python.org/3/library/math.html for the complete documentation of the Math module.\n",
    "\n",
    "### Functions"
   ]
  },
  {
   "cell_type": "code",
   "execution_count": 3,
   "metadata": {},
   "outputs": [
    {
     "data": {
      "text/plain": [
       "111.15304764152893"
      ]
     },
     "execution_count": 3,
     "metadata": {},
     "output_type": "execute_result"
    }
   ],
   "source": [
    "import math\n",
    "a = math.sqrt(12355)\n",
    "a"
   ]
  },
  {
   "cell_type": "code",
   "execution_count": 4,
   "metadata": {},
   "outputs": [
    {
     "data": {
      "text/plain": [
       "0.8414709848078965"
      ]
     },
     "execution_count": 4,
     "metadata": {},
     "output_type": "execute_result"
    }
   ],
   "source": [
    "b = math.sin(1)\n",
    "b"
   ]
  },
  {
   "cell_type": "markdown",
   "metadata": {},
   "source": [
    "### Constants"
   ]
  },
  {
   "cell_type": "code",
   "execution_count": 5,
   "metadata": {},
   "outputs": [],
   "source": [
    "p = math.pi"
   ]
  },
  {
   "cell_type": "markdown",
   "metadata": {},
   "source": [
    "## The Random Module\n",
    "\n",
    "This is another standard Python module. See https://docs.python.org/3/library/random.html for the complete documentation of the Random module."
   ]
  },
  {
   "cell_type": "code",
   "execution_count": 6,
   "metadata": {},
   "outputs": [
    {
     "data": {
      "text/plain": [
       "0.9922430817521777"
      ]
     },
     "execution_count": 6,
     "metadata": {},
     "output_type": "execute_result"
    }
   ],
   "source": [
    "import random\n",
    "\n",
    "# a random number between 0 and 1\n",
    "random.random()"
   ]
  },
  {
   "cell_type": "code",
   "execution_count": 7,
   "metadata": {},
   "outputs": [
    {
     "data": {
      "text/plain": [
       "3.1264346377872854"
      ]
     },
     "execution_count": 7,
     "metadata": {},
     "output_type": "execute_result"
    }
   ],
   "source": [
    "# a random number from a Gaussian distribution\n",
    "random.gauss(1, 3)"
   ]
  },
  {
   "cell_type": "markdown",
   "metadata": {},
   "source": [
    "## The Time Module\n",
    "The `time` module gives access to a number of timing functions. Here, we only cover a few of the things the module can be used for."
   ]
  },
  {
   "cell_type": "markdown",
   "metadata": {},
   "source": [
    "### Timing things"
   ]
  },
  {
   "cell_type": "code",
   "execution_count": 8,
   "metadata": {},
   "outputs": [],
   "source": [
    "import time"
   ]
  },
  {
   "cell_type": "markdown",
   "metadata": {},
   "source": [
    "The function `time()` return the time since an specific reference time and date. This reference point is platform dependent. For Unix, the reference is January 1, 1970, 00:00:00 (UTC). To find out what the epoch is on a given platform, look at `time.gmtime(0)`."
   ]
  },
  {
   "cell_type": "code",
   "execution_count": 9,
   "metadata": {},
   "outputs": [
    {
     "name": "stdout",
     "output_type": "stream",
     "text": [
      "1567535412.58933\n"
     ]
    }
   ],
   "source": [
    "print(time.time())"
   ]
  },
  {
   "cell_type": "code",
   "execution_count": 10,
   "metadata": {},
   "outputs": [
    {
     "data": {
      "text/plain": [
       "time.struct_time(tm_year=1970, tm_mon=1, tm_mday=1, tm_hour=0, tm_min=0, tm_sec=0, tm_wday=3, tm_yday=1, tm_isdst=0)"
      ]
     },
     "execution_count": 10,
     "metadata": {},
     "output_type": "execute_result"
    }
   ],
   "source": [
    "time.gmtime(0)"
   ]
  },
  {
   "cell_type": "markdown",
   "metadata": {},
   "source": [
    "Altough the reference point for the `time()` function is arbitrary, we can still use it to measure time."
   ]
  },
  {
   "cell_type": "code",
   "execution_count": 11,
   "metadata": {},
   "outputs": [
    {
     "name": "stdout",
     "output_type": "stream",
     "text": [
      "This took me 0.10323524475097656 milliseconds\n"
     ]
    }
   ],
   "source": [
    "start = time.time()\n",
    "\n",
    "(math.pi * math.pi) ** 0.25\n",
    "\n",
    "completed = time.time()\n",
    "duration = (completed - start) * 1000 #Take the difference and convert to milliseconds (1/1000th of a second)\n",
    "print('This took me', duration, 'milliseconds') "
   ]
  },
  {
   "cell_type": "markdown",
   "metadata": {},
   "source": [
    "### Printing the time\n",
    "\n",
    "The time module has a an easy way to get the current time and date in a standard format (as text)."
   ]
  },
  {
   "cell_type": "code",
   "execution_count": 10,
   "metadata": {},
   "outputs": [
    {
     "name": "stdout",
     "output_type": "stream",
     "text": [
      "Thu Sep  6 14:22:48 2018\n"
     ]
    }
   ],
   "source": [
    "print(time.asctime())"
   ]
  },
  {
   "cell_type": "markdown",
   "metadata": {},
   "source": [
    "The module can also be used to print the current time and date in a specified format . The format is a string with placeholders in it. Python will replace these placeholders with the correct values. The place holders you can use are listed here: https://docs.python.org/3/library/time.html#time.strftime"
   ]
  },
  {
   "cell_type": "code",
   "execution_count": 11,
   "metadata": {},
   "outputs": [
    {
     "name": "stdout",
     "output_type": "stream",
     "text": [
      "This is the 36th week of the year. The current month is September.\n"
     ]
    }
   ],
   "source": [
    "formatting = 'This is the %Wth week of the year. The current month is %B.'\n",
    "result = time.strftime(formatting)\n",
    "print(result)"
   ]
  },
  {
   "cell_type": "markdown",
   "metadata": {},
   "source": [
    "## Your first program\n",
    "\n",
    "Here we start working with the editor.\n",
    "+ How to enter a script\n",
    "+ How to save it\n",
    "+ How to run it\n",
    "\n",
    "Example script"
   ]
  },
  {
   "cell_type": "code",
   "execution_count": 1,
   "metadata": {},
   "outputs": [
    {
     "name": "stdout",
     "output_type": "stream",
     "text": [
      "7\n",
      "49\n",
      "28\n",
      "343\n"
     ]
    }
   ],
   "source": [
    "side = 7\n",
    "area = side * side\n",
    "circumference = side * 4\n",
    "volume = side**3\n",
    "\n",
    "print(side)\n",
    "print(area)\n",
    "print(circumference)\n",
    "print(volume)"
   ]
  },
  {
   "cell_type": "markdown",
   "metadata": {},
   "source": [
    "## Exercises\n",
    "\n",
    "### Exercise 1\n",
    "\n",
    "+ Write a script that assigns a radius to a variable. Next, the script uses this radius to calculate the surface area  or the volume of sphere, using `math.pi`. Print the result to the screen.\n",
    "+ Write a script that prints the number of remaining days in the year.\n",
    "+ Print a script that prints out what percentage of the year has passed.\n",
    "\n",
    "### Exercise 2\n",
    "\n",
    "+ Write a script that calculates the simple interest $i$ given a starting capital $p$, an interest rate `r`, and a duration in years $y$. The equation is:\n",
    "\n",
    "$$i = p \\times r \\times y$$\n",
    "\n",
    "The interest rate `r` should be entered as a percentage. However, the equation assumes the decimal notation.\n",
    "\n",
    "+ Expand the previous script to also print out the compounded interest:\n",
    "\n",
    "$$i = p \\times (1 + r)^y$$\n",
    "\n",
    "\n",
    "### Exercise 2b\n",
    "\n",
    "+ Suppose we want to develop a game in which a character throws a projectile at the player. The character throws the projectile with a random angle in the range [30-45] degrees and with a speed in the range of [5-10] m/s. Write a script that calculates, for a single throw, how far the projectile travels ($d$) and how long it is airborn ($t$). These are the relevant equations (see https://en.wikipedia.org/wiki/Projectile_motion):\n",
    "\n",
    "\n",
    "$$ t= \\frac{2 v_0 sin(\\theta)}{g}$$\n",
    "\n",
    "$$ d = \\frac{v_0^2}{g} \\times sin(2\\theta)$$\n",
    "\n",
    "\n",
    "\n",
    "\n",
    "### Exercise 3\n",
    "\n",
    "What code lets you start using the `math` module?\n",
    "\n",
    "### Exercise 4\n",
    "\n",
    "Consult the documentation for the `math` module to answer this question. Write a script that assigns a value to two variables, `var1` and `var2 `and prints out their greatest common divisor?\n",
    "\n",
    "### Exercise 5\n",
    "\n",
    "Consult the documentation for the `random` module ([link](https://docs.python.org/3/library/random.html))  to answer this question.\n",
    "\n",
    "Write a script that does the following:\n",
    "\n",
    " * Declares a variable `min_value`.\n",
    " * Declares a variable `max_value`.\n",
    " * Generates a random number between `min_value` and `max_value`.\n",
    " * Assigns this number to a variable, e.g, `random_value`\n",
    " * Prints that variable to the screen.\n",
    "\n",
    "### Exercise 6\n",
    "\n",
    "Consult the documentation of the `time` module ([link](https://docs.python.org/3/library/time.html)). Write code that prints the current time to the screen in the following format `'It is now 30 minutes past 09'`."
   ]
  }
 ],
 "metadata": {
  "kernelspec": {
   "display_name": "Python 3",
   "language": "python",
   "name": "python3"
  },
  "language_info": {
   "codemirror_mode": {
    "name": "ipython",
    "version": 3
   },
   "file_extension": ".py",
   "mimetype": "text/x-python",
   "name": "python",
   "nbconvert_exporter": "python",
   "pygments_lexer": "ipython3",
   "version": "3.7.8"
  },
  "toc": {
   "base_numbering": 1,
   "nav_menu": {
    "height": "120px",
    "width": "252px"
   },
   "number_sections": false,
   "sideBar": true,
   "skip_h1_title": true,
   "title_cell": "Table of Contents",
   "title_sidebar": "Contents",
   "toc_cell": true,
   "toc_position": {},
   "toc_section_display": "block",
   "toc_window_display": true
  },
  "varInspector": {
   "cols": {
    "lenName": 16,
    "lenType": 16,
    "lenVar": 40
   },
   "kernels_config": {
    "python": {
     "delete_cmd_postfix": "",
     "delete_cmd_prefix": "del ",
     "library": "var_list.py",
     "varRefreshCmd": "print(var_dic_list())"
    },
    "r": {
     "delete_cmd_postfix": ") ",
     "delete_cmd_prefix": "rm(",
     "library": "var_list.r",
     "varRefreshCmd": "cat(var_dic_list()) "
    }
   },
   "types_to_exclude": [
    "module",
    "function",
    "builtin_function_or_method",
    "instance",
    "_Feature"
   ],
   "window_display": false
  }
 },
 "nbformat": 4,
 "nbformat_minor": 2
}
