{
 "cells": [
  {
   "cell_type": "markdown",
   "metadata": {
    "toc": true
   },
   "source": [
    "<h1>Table of Contents<span class=\"tocSkip\"></span></h1>\n",
    "<div class=\"toc\"><ul class=\"toc-item\"><li><span><a href=\"#Lists-of-lists-(of-lists)\" data-toc-modified-id=\"Lists-of-lists-(of-lists)-1\">Lists of lists (of lists)</a></span></li><li><span><a href=\"#Slicing-&amp;-indexing\" data-toc-modified-id=\"Slicing-&amp;-indexing-2\">Slicing &amp; indexing</a></span></li><li><span><a href=\"#Making-a-list-of-sequential-integers\" data-toc-modified-id=\"Making-a-list-of-sequential-integers-3\">Making a list of sequential integers</a></span></li><li><span><a href=\"#The-Random-module-and-lists\" data-toc-modified-id=\"The-Random-module-and-lists-4\">The Random module and lists</a></span></li><li><span><a href=\"#Check-whether-a-lists-contains-an-item\" data-toc-modified-id=\"Check-whether-a-lists-contains-an-item-5\">Check whether a lists contains an item</a></span></li><li><span><a href=\"#List-methods\" data-toc-modified-id=\"List-methods-6\">List methods</a></span><ul class=\"toc-item\"><li><span><a href=\"#Extending-a-list\" data-toc-modified-id=\"Extending-a-list-6.1\">Extending a list</a></span></li><li><span><a href=\"#Counting-items\" data-toc-modified-id=\"Counting-items-6.2\">Counting items</a></span></li><li><span><a href=\"#Removing-items\" data-toc-modified-id=\"Removing-items-6.3\">Removing items</a></span></li><li><span><a href=\"#Reversing-the-list\" data-toc-modified-id=\"Reversing-the-list-6.4\">Reversing the list</a></span></li><li><span><a href=\"#List-to-string\" data-toc-modified-id=\"List-to-string-6.5\">List to string</a></span></li><li><span><a href=\"#Copying-lists\" data-toc-modified-id=\"Copying-lists-6.6\">Copying lists</a></span></li></ul></li><li><span><a href=\"#Exercises\" data-toc-modified-id=\"Exercises-7\">Exercises</a></span><ul class=\"toc-item\"><li><span><a href=\"#Exercise-1\" data-toc-modified-id=\"Exercise-1-7.1\">Exercise 1</a></span></li><li><span><a href=\"#Exercise-2\" data-toc-modified-id=\"Exercise-2-7.2\">Exercise 2</a></span></li><li><span><a href=\"#Exercise-3\" data-toc-modified-id=\"Exercise-3-7.3\">Exercise 3</a></span></li><li><span><a href=\"#Exercise-4\" data-toc-modified-id=\"Exercise-4-7.4\">Exercise 4</a></span></li><li><span><a href=\"#Exercise-5\" data-toc-modified-id=\"Exercise-5-7.5\">Exercise 5</a></span></li><li><span><a href=\"#Exercise-6\" data-toc-modified-id=\"Exercise-6-7.6\">Exercise 6</a></span></li></ul></li></ul></div>"
   ]
  },
  {
   "cell_type": "markdown",
   "metadata": {},
   "source": [
    "# Lists\n",
    "\n",
    "The Python list object is the most general sequence provided by the language. Lists are positionally ordered collections of **arbitrarily typed objects**, and they have no fixed size."
   ]
  },
  {
   "cell_type": "code",
   "execution_count": 2,
   "metadata": {},
   "outputs": [
    {
     "name": "stdout",
     "output_type": "stream",
     "text": [
      "[1, 2, 3]\n",
      "[3.141592653589793, '12345', 123, 3.141592653589793, 3.141592653589793]\n",
      "5\n"
     ]
    }
   ],
   "source": [
    "import math\n",
    "a = math.pi\n",
    "my_list = [1,2,3]\n",
    "print(my_list)\n",
    "my_list = [a, '12345', 123, a, a]\n",
    "print(my_list)\n",
    "print(len(my_list))"
   ]
  },
  {
   "cell_type": "markdown",
   "metadata": {},
   "source": [
    "## Lists of lists (of lists)"
   ]
  },
  {
   "cell_type": "code",
   "execution_count": 3,
   "metadata": {},
   "outputs": [
    {
     "data": {
      "text/plain": [
       "[[1, 2, 3],\n",
       " [3.141592653589793, '12345', 123, 3.141592653589793, 3.141592653589793],\n",
       " [[3.141592653589793, '12345', 123, 3.141592653589793, 3.141592653589793],\n",
       "  [1, 2, 3]]]"
      ]
     },
     "execution_count": 3,
     "metadata": {},
     "output_type": "execute_result"
    }
   ],
   "source": [
    "lst = [1,2,3]\n",
    "[lst, my_list, [my_list, lst]]"
   ]
  },
  {
   "cell_type": "markdown",
   "metadata": {},
   "source": [
    "## Slicing & indexing\n",
    "\n",
    "Because they are sequences, lists support all the sequence operations we discussed for strings; the only difference is that the results are usually lists instead of strings."
   ]
  },
  {
   "cell_type": "code",
   "execution_count": 4,
   "metadata": {},
   "outputs": [
    {
     "name": "stdout",
     "output_type": "stream",
     "text": [
      "3.141592653589793\n",
      "[3.141592653589793, '12345', 123, 3.141592653589793]\n",
      "[3.141592653589793, '12345', 123, 3.141592653589793, 3.141592653589793, 4, 5, 6]\n",
      "[1, 2, 3, 1, 2, 3]\n"
     ]
    }
   ],
   "source": [
    "print(my_list[0])  # Indexing by position\n",
    "print(my_list[:-1]) # Slicing a list returns a new list\n",
    "print(my_list + [4, 5, 6]) # Concat/repeat make new lists too\n",
    "print([1,2,3] * 2)"
   ]
  },
  {
   "cell_type": "code",
   "execution_count": 5,
   "metadata": {},
   "outputs": [
    {
     "name": "stdout",
     "output_type": "stream",
     "text": [
      "[99, 199, '12345', 123, 3.141592653589793, 3.141592653589793]\n"
     ]
    }
   ],
   "source": [
    "my_list[0:1] = [99, 199]\n",
    "print(my_list)"
   ]
  },
  {
   "cell_type": "markdown",
   "metadata": {},
   "source": [
    "## Making a list of sequential integers"
   ]
  },
  {
   "cell_type": "code",
   "execution_count": 6,
   "metadata": {},
   "outputs": [
    {
     "data": {
      "text/plain": [
       "[0, 1, 2, 3, 4]"
      ]
     },
     "execution_count": 6,
     "metadata": {},
     "output_type": "execute_result"
    }
   ],
   "source": [
    "a = range(5)\n",
    "list(a)"
   ]
  },
  {
   "cell_type": "code",
   "execution_count": 7,
   "metadata": {},
   "outputs": [
    {
     "data": {
      "text/plain": [
       "[7, 8, 9]"
      ]
     },
     "execution_count": 7,
     "metadata": {},
     "output_type": "execute_result"
    }
   ],
   "source": [
    "a = range(7,10)\n",
    "a = list(a)\n",
    "a"
   ]
  },
  {
   "cell_type": "code",
   "execution_count": 8,
   "metadata": {},
   "outputs": [
    {
     "data": {
      "text/plain": [
       "[6, 7, 8, 9, 10, 11]"
      ]
     },
     "execution_count": 8,
     "metadata": {},
     "output_type": "execute_result"
    }
   ],
   "source": [
    "a = range(6,12)\n",
    "a = list(a)\n",
    "a"
   ]
  },
  {
   "cell_type": "markdown",
   "metadata": {},
   "source": [
    "## The Random module and lists"
   ]
  },
  {
   "cell_type": "code",
   "execution_count": 2,
   "metadata": {},
   "outputs": [],
   "source": [
    "import random"
   ]
  },
  {
   "cell_type": "code",
   "execution_count": 3,
   "metadata": {},
   "outputs": [
    {
     "name": "stdout",
     "output_type": "stream",
     "text": [
      "[3, 7, 8, 4, 2, 5, 0, 6, 1, 9]\n"
     ]
    }
   ],
   "source": [
    "my_list = list(range(0,10))\n",
    "random.shuffle(my_list)\n",
    "print(my_list)"
   ]
  },
  {
   "cell_type": "code",
   "execution_count": 4,
   "metadata": {},
   "outputs": [
    {
     "name": "stdout",
     "output_type": "stream",
     "text": [
      "7\n"
     ]
    }
   ],
   "source": [
    "my_list = list(range(0,10))\n",
    "c = random.chrandom.shuffle(my_list)oice(my_list)\n",
    "print(c)"
   ]
  },
  {
   "cell_type": "code",
   "execution_count": 5,
   "metadata": {},
   "outputs": [
    {
     "name": "stdout",
     "output_type": "stream",
     "text": [
      "[7, 3, 0]\n"
     ]
    }
   ],
   "source": [
    "my_list = list(range(0,10))\n",
    "c = random.sample(my_list,3)\n",
    "print(c)"
   ]
  },
  {
   "cell_type": "markdown",
   "metadata": {},
   "source": [
    "## Check whether a lists contains an item"
   ]
  },
  {
   "cell_type": "code",
   "execution_count": 6,
   "metadata": {},
   "outputs": [
    {
     "name": "stdout",
     "output_type": "stream",
     "text": [
      "True\n",
      "False\n"
     ]
    }
   ],
   "source": [
    "a = ['s','p','a','m']\n",
    "print('p' in a)\n",
    "print('t' in a)"
   ]
  },
  {
   "cell_type": "markdown",
   "metadata": {},
   "source": [
    "## List methods\n",
    "\n",
    "Just as strings, strings come with a number of functions that allow manipulating them. Here, I demonstrate a few of them:"
   ]
  },
  {
   "cell_type": "markdown",
   "metadata": {},
   "source": [
    "### Extending a list"
   ]
  },
  {
   "cell_type": "code",
   "execution_count": 7,
   "metadata": {},
   "outputs": [
    {
     "name": "stdout",
     "output_type": "stream",
     "text": [
      "[0, 1, 2, 3, 4, 5, 6, 7, 8, 9, 'add this']\n"
     ]
    }
   ],
   "source": [
    "my_list.append('add this') #Add an item to the end of the list\n",
    "print(my_list)"
   ]
  },
  {
   "cell_type": "code",
   "execution_count": 9,
   "metadata": {},
   "outputs": [
    {
     "name": "stdout",
     "output_type": "stream",
     "text": [
      "[0, 1, 2, 3, 4, 5, 6, 7, 8, 9, 'add this', 1, 2, 3, 1, 2, 3]\n"
     ]
    }
   ],
   "source": [
    "my_list = my_list + [1,2,3]# Concatenate lists\n",
    "print(my_list)"
   ]
  },
  {
   "cell_type": "code",
   "execution_count": 10,
   "metadata": {},
   "outputs": [
    {
     "name": "stdout",
     "output_type": "stream",
     "text": [
      "[1, 2, 3, 4]\n"
     ]
    }
   ],
   "source": [
    "b = [1,2,4]\n",
    "b.insert(2,3) # Insert an item at a specific location\n",
    "print(b)"
   ]
  },
  {
   "cell_type": "markdown",
   "metadata": {},
   "source": [
    "### Counting items"
   ]
  },
  {
   "cell_type": "code",
   "execution_count": 34,
   "metadata": {},
   "outputs": [
    {
     "name": "stdout",
     "output_type": "stream",
     "text": [
      "[0, 1, 2, 3, 4, 5, 6, 7, 8, 9, 'add this']\n",
      "1\n"
     ]
    }
   ],
   "source": [
    "print(my_list)\n",
    "print(my_list.count('add this')) #Returns count of how many times obj occurs in list"
   ]
  },
  {
   "cell_type": "code",
   "execution_count": 35,
   "metadata": {},
   "outputs": [
    {
     "data": {
      "text/plain": [
       "2"
      ]
     },
     "execution_count": 35,
     "metadata": {},
     "output_type": "execute_result"
    }
   ],
   "source": [
    "my_list.index(2) #Returns the lowest index in list that obj appears"
   ]
  },
  {
   "cell_type": "markdown",
   "metadata": {},
   "source": [
    "### Removing items"
   ]
  },
  {
   "cell_type": "code",
   "execution_count": 42,
   "metadata": {},
   "outputs": [
    {
     "name": "stdout",
     "output_type": "stream",
     "text": [
      "6\n",
      "[0, 1, 2, 7, 8, 'add this']\n"
     ]
    }
   ],
   "source": [
    "#Items can be removed by index\n",
    "removed_item = my_list.pop(3)\n",
    "print(removed_item)\n",
    "print(my_list)"
   ]
  },
  {
   "cell_type": "code",
   "execution_count": 43,
   "metadata": {},
   "outputs": [
    {
     "name": "stdout",
     "output_type": "stream",
     "text": [
      "[0, 1, 2, 7, 8]\n"
     ]
    }
   ],
   "source": [
    "my_list.remove('add this') #removes the first instance of an item\n",
    "print(my_list)"
   ]
  },
  {
   "cell_type": "markdown",
   "metadata": {},
   "source": [
    "### Reversing the list"
   ]
  },
  {
   "cell_type": "code",
   "execution_count": 21,
   "metadata": {},
   "outputs": [
    {
     "name": "stdout",
     "output_type": "stream",
     "text": [
      "['add this', 8, 7, 6, 5, 4, 2, 1, 0]\n"
     ]
    }
   ],
   "source": [
    "my_list.reverse() #Flip the list\n",
    "print(my_list)"
   ]
  },
  {
   "cell_type": "markdown",
   "metadata": {},
   "source": [
    "### List to string\n",
    "\n",
    "*join()* is a string method, **not** a list method. You can’t say **a.join(', ')**, even though it seems more intuitive. The argument to *join()* is a string or any iterable sequence of strings (including a list), and its output is a string."
   ]
  },
  {
   "cell_type": "code",
   "execution_count": 22,
   "metadata": {},
   "outputs": [
    {
     "data": {
      "text/plain": [
       "'s_p_a_m'"
      ]
     },
     "execution_count": 22,
     "metadata": {},
     "output_type": "execute_result"
    }
   ],
   "source": [
    "'_'.join(a)"
   ]
  },
  {
   "cell_type": "markdown",
   "metadata": {},
   "source": [
    "### Copying lists\n",
    "\n",
    "When you copy a list, you want to use the explicit `copy()` method."
   ]
  },
  {
   "cell_type": "code",
   "execution_count": 23,
   "metadata": {},
   "outputs": [
    {
     "name": "stdout",
     "output_type": "stream",
     "text": [
      "[1, 2, 3]\n",
      "[1, 2, 3]\n"
     ]
    }
   ],
   "source": [
    "a = [1,2,3]\n",
    "b = a.copy()\n",
    "print(a)\n",
    "print(b)"
   ]
  },
  {
   "cell_type": "markdown",
   "metadata": {},
   "source": [
    "Don't use this - I'll explain why in a minute"
   ]
  },
  {
   "cell_type": "code",
   "execution_count": 49,
   "metadata": {},
   "outputs": [
    {
     "name": "stdout",
     "output_type": "stream",
     "text": [
      "[1, 2, 3]\n",
      "[1, 2, 3]\n",
      "['1000', 2, 3]\n",
      "['1000', 2, 3]\n"
     ]
    }
   ],
   "source": [
    "a = [1,2,3]\n",
    "\n",
    "\n",
    "b = a\n",
    "print(a)\n",
    "print(b)\n",
    "\n",
    "b[0] = '1000'\n",
    "print(b)\n",
    "print(a)"
   ]
  },
  {
   "cell_type": "markdown",
   "metadata": {},
   "source": [
    "### Exercises\n",
    "\n",
    "### Exercise 1\n",
    "\n",
    "+ Make a list containing (1) your name, (2) the number 3 and (3) the value of $\\pi$ (using the math module).\n",
    "+ Append the boolean value True to the end of the list.\n",
    "+ Append the boolean value False to the beginning of the list.\n",
    "+ Create a list containing the numbers 1000 to 2500.\n",
    "+ Remove the number 1234 from the list.\n",
    "+ Remove the 1000th entry from the list, and print it.\n",
    "+ Randomize the order of the numbers in the list.\n",
    "+ Make a new list containing the first 10 entries in the randomized list.\n",
    "+ Use the *in* keyword to check whether the value 1000 is in the new list.\n",
    "+ Replace the third value in the list by the string 'some string'.\n",
    "+ More: http://www.w3resource.com/python-exercises/list/\n",
    "\n",
    "### Exercise 2\n",
    "\n",
    "Create a list of three items (of your choosing) and assign it to a variable.\n",
    "\n",
    "### Exercise 3\n",
    "\n",
    "Write a script that, using the list (`var1`) below, does the following:\n",
    "\n",
    "- Print out the index of the value 2.\n",
    "- Prints the item with index 3.\n",
    "- Prints the items with indices 3, 4 and 5.\n",
    "\n",
    "```python\n",
    "var1 = [3, 7, 4, 6, 0, 2, 8, 1, 5, 9]\n",
    "```\n",
    "\n",
    "### Exercise 4\n",
    "\n",
    "Write a script that prints out a random number from 0 to 10 (including 0 and 10). However, make sure that the numbers 3, 5 and 8 are never printed.\n",
    "\n",
    "### Exercise 5\n",
    "\n",
    "Write a script that generates a list that contains:\n",
    "\n",
    "* 50 copies of the number 1\n",
    "* 25 copies of the number 2\n",
    "* 10 copies of the number 3\n",
    "\n",
    "Next, shuffle the list and print the index of the first '3' in the shuffled list to the screen.\n",
    "\n",
    "### Exercise 6\n",
    "\n",
    "Assign the piece of text below to a variable. Write a script that processes the text:\n",
    "\n",
    "+ Step 1: Convert the text to lowercase.\n",
    "+ Step 2: Remove all punctuation (commas and periods).\n",
    "+ Step 3:  Remove all newline characters (i.e.,`\\n`).\n",
    "+ Step 4: Split the text into a list of individual words (spaces can be used to split the text).\n",
    "+ Step 5: Your script should be able to a assign a word to a variable, e.g, `search_word ='that'`. The script should print out how many times that word occurs in the text and what the index of its first occurrence is. For the example provided, the script should print 4 and 39.\n",
    "\n",
    "```\n",
    "I travelled for two years in Tibet, therefore, and amused myself by visiting Lhassa, and spending some days with the head lama. You may have read of the remarkable explorations of a Norwegian named Sigerson, but I am sure that it never occurred to you that you were receiving news of your friend. I then passed through Persia, looked in at Mecca, and paid a short but interesting visit to the Khalifa at Khartoum the results of which I have communicated to the Foreign Office. Returning to France, I spent some months in a research into the coal-tar derivatives, which I conducted in a laboratory at Montpellier, in the south of France. Having concluded this to my satisfaction and learning that only one of my enemies was now left in London, I was about to return when my movements were hastened by the news of this very remarkable Park Lane Mystery, which not only appealed to me by its own merits, but which seemed to offer some most peculiar personal opportunities. I came over at once to London, called in my own person at Baker Street, threw Mrs. Hudson into violent hysterics, and found that Mycroft had preserved my rooms and my papers exactly as they had always been.\n",
    "```"
   ]
  },
  {
   "cell_type": "code",
   "execution_count": null,
   "metadata": {},
   "outputs": [],
   "source": []
  }
 ],
 "metadata": {
  "anaconda-cloud": {},
  "kernelspec": {
   "display_name": "Python 3 (ipykernel)",
   "language": "python",
   "name": "python3"
  },
  "language_info": {
   "codemirror_mode": {
    "name": "ipython",
    "version": 3
   },
   "file_extension": ".py",
   "mimetype": "text/x-python",
   "name": "python",
   "nbconvert_exporter": "python",
   "pygments_lexer": "ipython3",
   "version": "3.7.13"
  },
  "nav_menu": {},
  "toc": {
   "base_numbering": 1,
   "nav_menu": {
    "height": "261px",
    "width": "252px"
   },
   "number_sections": false,
   "sideBar": true,
   "skip_h1_title": true,
   "title_cell": "Table of Contents",
   "title_sidebar": "Contents",
   "toc_cell": true,
   "toc_position": {
    "height": "293px",
    "left": "2px",
    "right": "20px",
    "top": "104px",
    "width": "212px"
   },
   "toc_section_display": true,
   "toc_window_display": true
  },
  "toc_position": {
   "height": "846px",
   "left": "0px",
   "right": "1708px",
   "top": "107px",
   "width": "212px"
  }
 },
 "nbformat": 4,
 "nbformat_minor": 1
}
