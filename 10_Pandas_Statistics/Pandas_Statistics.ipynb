{
 "cells": [
  {
   "cell_type": "markdown",
   "metadata": {
    "toc": true
   },
   "source": [
    "<h1>Table of Contents<span class=\"tocSkip\"></span></h1>\n",
    "<div class=\"toc\"><ul class=\"toc-item\"><li><span><a href=\"#Reading-in-some-example-data\" data-toc-modified-id=\"Reading-in-some-example-data-1\">Reading in some example data</a></span></li><li><span><a href=\"#Simple-descriptive-statistics-of-numerical-variables\" data-toc-modified-id=\"Simple-descriptive-statistics-of-numerical-variables-2\">Simple descriptive statistics of numerical variables</a></span></li><li><span><a href=\"#Descriptive-statistics-of-categorical-variables\" data-toc-modified-id=\"Descriptive-statistics-of-categorical-variables-3\">Descriptive statistics of categorical variables</a></span></li><li><span><a href=\"#Exercises\" data-toc-modified-id=\"Exercises-4\">Exercises</a></span></li><li><span><a href=\"#Data-aggregation\" data-toc-modified-id=\"Data-aggregation-5\">Data aggregation</a></span><ul class=\"toc-item\"><li><span><a href=\"#Grouping-data-according-to-a-single-variable\" data-toc-modified-id=\"Grouping-data-according-to-a-single-variable-5.1\">Grouping data according to a single variable</a></span></li><li><span><a href=\"#Grouping-according-to-multiple-variables\" data-toc-modified-id=\"Grouping-according-to-multiple-variables-5.2\">Grouping according to multiple variables</a></span></li><li><span><a href=\"#Resetting-the-indices\" data-toc-modified-id=\"Resetting-the-indices-5.3\">Resetting the indices</a></span></li></ul></li><li><span><a href=\"#When-not-to-reset-the-indices\" data-toc-modified-id=\"When-not-to-reset-the-indices-6\">When not to reset the indices</a></span><ul class=\"toc-item\"><li><span><a href=\"#Using-the-stats-module\" data-toc-modified-id=\"Using-the-stats-module-6.1\">Using the <code>stats</code> module</a></span></li></ul></li><li><span><a href=\"#Reorganizing-a-dataframe\" data-toc-modified-id=\"Reorganizing-a-dataframe-7\">Reorganizing a dataframe</a></span></li><li><span><a href=\"#Exercise-1\" data-toc-modified-id=\"Exercise-1-8\">Exercise 1</a></span></li><li><span><a href=\"#Exercise-2\" data-toc-modified-id=\"Exercise-2-9\">Exercise 2</a></span></li><li><span><a href=\"#Exercises-3\" data-toc-modified-id=\"Exercises-3-10\">Exercises 3</a></span></li></ul></div>"
   ]
  },
  {
   "cell_type": "markdown",
   "metadata": {},
   "source": [
    "# Pandas: statistics"
   ]
  },
  {
   "cell_type": "markdown",
   "metadata": {},
   "source": [
    "## Reading in some example data\n",
    "\n",
    "The fossum data consists of nine morphometric measurements on each of 43 female mountain brushtail possums, trapped at seven sites from Southern Victoria to central Queensland:\n",
    "\n",
    "https://vincentarelbundock.github.io/Rdatasets/doc/DAAG/fossum.html"
   ]
  },
  {
   "cell_type": "code",
   "execution_count": 1,
   "metadata": {},
   "outputs": [
    {
     "data": {
      "text/html": [
       "<div>\n",
       "<style scoped>\n",
       "    .dataframe tbody tr th:only-of-type {\n",
       "        vertical-align: middle;\n",
       "    }\n",
       "\n",
       "    .dataframe tbody tr th {\n",
       "        vertical-align: top;\n",
       "    }\n",
       "\n",
       "    .dataframe thead th {\n",
       "        text-align: right;\n",
       "    }\n",
       "</style>\n",
       "<table border=\"1\" class=\"dataframe\">\n",
       "  <thead>\n",
       "    <tr style=\"text-align: right;\">\n",
       "      <th></th>\n",
       "      <th>case</th>\n",
       "      <th>site</th>\n",
       "      <th>Pop</th>\n",
       "      <th>sex</th>\n",
       "      <th>age</th>\n",
       "      <th>hdlngth</th>\n",
       "      <th>skullw</th>\n",
       "      <th>totlngth</th>\n",
       "      <th>taill</th>\n",
       "      <th>footlgth</th>\n",
       "      <th>earconch</th>\n",
       "      <th>eye</th>\n",
       "      <th>chest</th>\n",
       "      <th>belly</th>\n",
       "    </tr>\n",
       "  </thead>\n",
       "  <tbody>\n",
       "    <tr>\n",
       "      <th>C5</th>\n",
       "      <td>2</td>\n",
       "      <td>1</td>\n",
       "      <td>Vic</td>\n",
       "      <td>f</td>\n",
       "      <td>6</td>\n",
       "      <td>92.5</td>\n",
       "      <td>57.6</td>\n",
       "      <td>91.5</td>\n",
       "      <td>36.5</td>\n",
       "      <td>72.5</td>\n",
       "      <td>51.2</td>\n",
       "      <td>16.0</td>\n",
       "      <td>28.5</td>\n",
       "      <td>33.0</td>\n",
       "    </tr>\n",
       "    <tr>\n",
       "      <th>C10</th>\n",
       "      <td>3</td>\n",
       "      <td>1</td>\n",
       "      <td>Vic</td>\n",
       "      <td>f</td>\n",
       "      <td>6</td>\n",
       "      <td>94.0</td>\n",
       "      <td>60.0</td>\n",
       "      <td>95.5</td>\n",
       "      <td>39.0</td>\n",
       "      <td>75.4</td>\n",
       "      <td>51.9</td>\n",
       "      <td>15.5</td>\n",
       "      <td>30.0</td>\n",
       "      <td>34.0</td>\n",
       "    </tr>\n",
       "    <tr>\n",
       "      <th>C15</th>\n",
       "      <td>4</td>\n",
       "      <td>1</td>\n",
       "      <td>Vic</td>\n",
       "      <td>f</td>\n",
       "      <td>6</td>\n",
       "      <td>93.2</td>\n",
       "      <td>57.1</td>\n",
       "      <td>92.0</td>\n",
       "      <td>38.0</td>\n",
       "      <td>76.1</td>\n",
       "      <td>52.2</td>\n",
       "      <td>15.2</td>\n",
       "      <td>28.0</td>\n",
       "      <td>34.0</td>\n",
       "    </tr>\n",
       "    <tr>\n",
       "      <th>C23</th>\n",
       "      <td>5</td>\n",
       "      <td>1</td>\n",
       "      <td>Vic</td>\n",
       "      <td>f</td>\n",
       "      <td>2</td>\n",
       "      <td>91.5</td>\n",
       "      <td>56.3</td>\n",
       "      <td>85.5</td>\n",
       "      <td>36.0</td>\n",
       "      <td>71.0</td>\n",
       "      <td>53.2</td>\n",
       "      <td>15.1</td>\n",
       "      <td>28.5</td>\n",
       "      <td>33.0</td>\n",
       "    </tr>\n",
       "    <tr>\n",
       "      <th>C24</th>\n",
       "      <td>6</td>\n",
       "      <td>1</td>\n",
       "      <td>Vic</td>\n",
       "      <td>f</td>\n",
       "      <td>1</td>\n",
       "      <td>93.1</td>\n",
       "      <td>54.8</td>\n",
       "      <td>90.5</td>\n",
       "      <td>35.5</td>\n",
       "      <td>73.2</td>\n",
       "      <td>53.6</td>\n",
       "      <td>14.2</td>\n",
       "      <td>30.0</td>\n",
       "      <td>32.0</td>\n",
       "    </tr>\n",
       "  </tbody>\n",
       "</table>\n",
       "</div>"
      ],
      "text/plain": [
       "     case  site  Pop sex  age  hdlngth  skullw  totlngth  taill  footlgth  \\\n",
       "C5      2     1  Vic   f    6     92.5    57.6      91.5   36.5      72.5   \n",
       "C10     3     1  Vic   f    6     94.0    60.0      95.5   39.0      75.4   \n",
       "C15     4     1  Vic   f    6     93.2    57.1      92.0   38.0      76.1   \n",
       "C23     5     1  Vic   f    2     91.5    56.3      85.5   36.0      71.0   \n",
       "C24     6     1  Vic   f    1     93.1    54.8      90.5   35.5      73.2   \n",
       "\n",
       "     earconch   eye  chest  belly  \n",
       "C5       51.2  16.0   28.5   33.0  \n",
       "C10      51.9  15.5   30.0   34.0  \n",
       "C15      52.2  15.2   28.0   34.0  \n",
       "C23      53.2  15.1   28.5   33.0  \n",
       "C24      53.6  14.2   30.0   32.0  "
      ]
     },
     "execution_count": 1,
     "metadata": {},
     "output_type": "execute_result"
    }
   ],
   "source": [
    "import pandas\n",
    "link = 'http://tinyurl.com/y8ummdf9'\n",
    "data = pandas.read_csv(link,index_col=0)\n",
    "data.head()"
   ]
  },
  {
   "cell_type": "markdown",
   "metadata": {},
   "source": [
    "## Simple descriptive statistics of numerical variables\n",
    "\n",
    "The describe() function can be used to get descriptives statistics of all *numerical* variables in a dataframe."
   ]
  },
  {
   "cell_type": "code",
   "execution_count": 3,
   "metadata": {},
   "outputs": [
    {
     "name": "stdout",
     "output_type": "stream",
     "text": [
      "             case       site        age    hdlngth     skullw   totlngth  \\\n",
      "count   43.000000  43.000000  43.000000  43.000000  43.000000  43.000000   \n",
      "mean    43.418605   2.976744   3.976744  92.148837  56.588372  87.906977   \n",
      "std     30.264888   2.219914   1.945549   2.574913   2.568788   4.182241   \n",
      "min      2.000000   1.000000   1.000000  84.700000  51.500000  75.000000   \n",
      "25%     18.000000   1.000000   3.000000  90.750000  55.200000  85.250000   \n",
      "50%     40.000000   2.000000   4.000000  92.500000  56.400000  88.500000   \n",
      "75%     64.500000   5.000000   5.000000  93.800000  57.650000  90.500000   \n",
      "max    104.000000   7.000000   9.000000  96.900000  67.700000  96.500000   \n",
      "\n",
      "           taill   footlgth   earconch        eye      chest      belly  \n",
      "count  43.000000  42.000000  43.000000  43.000000  43.000000  43.000000  \n",
      "mean   37.104651  69.111905  48.576744  14.811628  27.337209  32.883721  \n",
      "std     1.830815   4.911321   4.274444   1.030074   1.841069   2.929402  \n",
      "min    32.000000  60.300000  40.300000  13.000000  23.000000  25.000000  \n",
      "25%    36.000000  64.850000  44.650000  14.100000  26.000000  31.250000  \n",
      "50%    37.500000  70.450000  50.800000  14.800000  28.000000  33.000000  \n",
      "75%    38.250000  72.800000  52.300000  15.450000  28.500000  34.000000  \n",
      "max    41.000000  77.900000  53.900000  17.400000  31.000000  40.000000  \n"
     ]
    }
   ],
   "source": [
    "print(data.describe())"
   ]
  },
  {
   "cell_type": "markdown",
   "metadata": {},
   "source": [
    "Isolating a single column and getting its descriptives works as well."
   ]
  },
  {
   "cell_type": "code",
   "execution_count": 4,
   "metadata": {},
   "outputs": [
    {
     "data": {
      "text/plain": [
       "count    43.000000\n",
       "mean      3.976744\n",
       "std       1.945549\n",
       "min       1.000000\n",
       "25%       3.000000\n",
       "50%       4.000000\n",
       "75%       5.000000\n",
       "max       9.000000\n",
       "Name: age, dtype: float64"
      ]
     },
     "execution_count": 4,
     "metadata": {},
     "output_type": "execute_result"
    }
   ],
   "source": [
    "a = data.age\n",
    "a.describe()"
   ]
  },
  {
   "cell_type": "markdown",
   "metadata": {},
   "source": [
    "You can also get specific descriptices. "
   ]
  },
  {
   "cell_type": "code",
   "execution_count": 4,
   "metadata": {},
   "outputs": [
    {
     "data": {
      "text/plain": [
       "9"
      ]
     },
     "execution_count": 4,
     "metadata": {},
     "output_type": "execute_result"
    }
   ],
   "source": [
    "a.max()"
   ]
  },
  {
   "cell_type": "code",
   "execution_count": 5,
   "metadata": {},
   "outputs": [
    {
     "data": {
      "text/plain": [
       "1"
      ]
     },
     "execution_count": 5,
     "metadata": {},
     "output_type": "execute_result"
    }
   ],
   "source": [
    "a.min()"
   ]
  },
  {
   "cell_type": "code",
   "execution_count": 6,
   "metadata": {},
   "outputs": [
    {
     "data": {
      "text/plain": [
       "3.9767441860465116"
      ]
     },
     "execution_count": 6,
     "metadata": {},
     "output_type": "execute_result"
    }
   ],
   "source": [
    "a.mean()"
   ]
  },
  {
   "cell_type": "code",
   "execution_count": 7,
   "metadata": {},
   "outputs": [
    {
     "data": {
      "text/plain": [
       "1.9455489137665618"
      ]
     },
     "execution_count": 7,
     "metadata": {},
     "output_type": "execute_result"
    }
   ],
   "source": [
    "a.std()"
   ]
  },
  {
   "cell_type": "code",
   "execution_count": 8,
   "metadata": {},
   "outputs": [
    {
     "data": {
      "text/plain": [
       "43"
      ]
     },
     "execution_count": 8,
     "metadata": {},
     "output_type": "execute_result"
    }
   ],
   "source": [
    "a.count()"
   ]
  },
  {
   "cell_type": "markdown",
   "metadata": {
    "collapsed": true
   },
   "source": [
    "**Table of descriptive functions**\n",
    "\n",
    "This is a table of some of the descriptives that are available:\n",
    "\n",
    "+ count.......Number of non-null observations\n",
    "+ sum.........Sum of values\n",
    "+ mean........Mean of values\n",
    "+ mad.........Mean absolute deviation\n",
    "+ median......Arithmetic median of values\n",
    "+ min.........Minimum\n",
    "+ max.........Maximum\n",
    "+ mode........Mode\n",
    "+ prod........Product of values\n",
    "+ std.........Bessel-corrected sample standard deviation\n",
    "+ var.........Unbiased variance\n",
    "+ sem.........Standard error of the mean\n",
    "+ skew........Sample skewness (3rd moment)\n",
    "+ kurt........Sample kurtosis (4th moment)\n",
    "+ quantile....Sample quantile (value at %)"
   ]
  },
  {
   "cell_type": "markdown",
   "metadata": {},
   "source": [
    "## Descriptive statistics of categorical variables"
   ]
  },
  {
   "cell_type": "code",
   "execution_count": 9,
   "metadata": {},
   "outputs": [
    {
     "data": {
      "text/plain": [
       "Vic      24\n",
       "other    19\n",
       "Name: Pop, dtype: int64"
      ]
     },
     "execution_count": 9,
     "metadata": {},
     "output_type": "execute_result"
    }
   ],
   "source": [
    "p = data['Pop']\n",
    "p.value_counts()"
   ]
  },
  {
   "cell_type": "code",
   "execution_count": 10,
   "metadata": {},
   "outputs": [
    {
     "data": {
      "text/plain": [
       "f    43\n",
       "Name: sex, dtype: int64"
      ]
     },
     "execution_count": 10,
     "metadata": {},
     "output_type": "execute_result"
    }
   ],
   "source": [
    "p = data['sex']\n",
    "p.value_counts()"
   ]
  },
  {
   "cell_type": "code",
   "execution_count": 11,
   "metadata": {},
   "outputs": [
    {
     "data": {
      "text/plain": [
       "0    f\n",
       "dtype: object"
      ]
     },
     "execution_count": 11,
     "metadata": {},
     "output_type": "execute_result"
    }
   ],
   "source": [
    "p.mode()"
   ]
  },
  {
   "cell_type": "code",
   "execution_count": 12,
   "metadata": {},
   "outputs": [
    {
     "data": {
      "text/plain": [
       "1    19\n",
       "5     6\n",
       "2     5\n",
       "7     4\n",
       "6     4\n",
       "3     3\n",
       "4     2\n",
       "Name: site, dtype: int64"
      ]
     },
     "execution_count": 12,
     "metadata": {},
     "output_type": "execute_result"
    }
   ],
   "source": [
    "p = data['site']\n",
    "p.value_counts()"
   ]
  },
  {
   "cell_type": "markdown",
   "metadata": {},
   "source": [
    "## Exercises\n",
    "\n",
    "+ What is the longest recorded possum?\n",
    "+ What is the standard deviation of possum length?\n",
    "+ The longest relative tail length?"
   ]
  },
  {
   "cell_type": "markdown",
   "metadata": {},
   "source": [
    "## Data aggregation\n",
    "\n",
    "### Grouping data according to a single variable\n",
    "\n",
    "The ```groupby()``` function allows\n",
    "+ grouping data according to variable values\n",
    "+ calculating stastistics on each subgroup"
   ]
  },
  {
   "cell_type": "code",
   "execution_count": 13,
   "metadata": {},
   "outputs": [
    {
     "data": {
      "text/plain": [
       "<pandas.core.groupby.generic.DataFrameGroupBy object at 0x7f69bb7cf4d0>"
      ]
     },
     "execution_count": 13,
     "metadata": {},
     "output_type": "execute_result"
    }
   ],
   "source": [
    "#Step 1: create the groups\n",
    "grp = data.groupby('Pop')\n",
    "grp"
   ]
  },
  {
   "cell_type": "code",
   "execution_count": 13,
   "metadata": {},
   "outputs": [
    {
     "data": {
      "text/html": [
       "<div>\n",
       "<style scoped>\n",
       "    .dataframe tbody tr th:only-of-type {\n",
       "        vertical-align: middle;\n",
       "    }\n",
       "\n",
       "    .dataframe tbody tr th {\n",
       "        vertical-align: top;\n",
       "    }\n",
       "\n",
       "    .dataframe thead th {\n",
       "        text-align: right;\n",
       "    }\n",
       "</style>\n",
       "<table border=\"1\" class=\"dataframe\">\n",
       "  <thead>\n",
       "    <tr style=\"text-align: right;\">\n",
       "      <th></th>\n",
       "      <th>case</th>\n",
       "      <th>site</th>\n",
       "      <th>age</th>\n",
       "      <th>hdlngth</th>\n",
       "      <th>skullw</th>\n",
       "      <th>totlngth</th>\n",
       "      <th>taill</th>\n",
       "      <th>footlgth</th>\n",
       "      <th>earconch</th>\n",
       "      <th>eye</th>\n",
       "      <th>chest</th>\n",
       "      <th>belly</th>\n",
       "    </tr>\n",
       "    <tr>\n",
       "      <th>Pop</th>\n",
       "      <th></th>\n",
       "      <th></th>\n",
       "      <th></th>\n",
       "      <th></th>\n",
       "      <th></th>\n",
       "      <th></th>\n",
       "      <th></th>\n",
       "      <th></th>\n",
       "      <th></th>\n",
       "      <th></th>\n",
       "      <th></th>\n",
       "      <th></th>\n",
       "    </tr>\n",
       "  </thead>\n",
       "  <tbody>\n",
       "    <tr>\n",
       "      <th>Vic</th>\n",
       "      <td>20.333333</td>\n",
       "      <td>1.208333</td>\n",
       "      <td>4.041667</td>\n",
       "      <td>92.412500</td>\n",
       "      <td>56.645833</td>\n",
       "      <td>88.333333</td>\n",
       "      <td>36.333333</td>\n",
       "      <td>73.021739</td>\n",
       "      <td>51.758333</td>\n",
       "      <td>14.695833</td>\n",
       "      <td>27.750000</td>\n",
       "      <td>32.541667</td>\n",
       "    </tr>\n",
       "    <tr>\n",
       "      <th>other</th>\n",
       "      <td>72.578947</td>\n",
       "      <td>5.210526</td>\n",
       "      <td>3.894737</td>\n",
       "      <td>91.815789</td>\n",
       "      <td>56.515789</td>\n",
       "      <td>87.368421</td>\n",
       "      <td>38.078947</td>\n",
       "      <td>64.378947</td>\n",
       "      <td>44.557895</td>\n",
       "      <td>14.957895</td>\n",
       "      <td>26.815789</td>\n",
       "      <td>33.315789</td>\n",
       "    </tr>\n",
       "  </tbody>\n",
       "</table>\n",
       "</div>"
      ],
      "text/plain": [
       "            case      site       age    hdlngth     skullw   totlngth  \\\n",
       "Pop                                                                     \n",
       "Vic    20.333333  1.208333  4.041667  92.412500  56.645833  88.333333   \n",
       "other  72.578947  5.210526  3.894737  91.815789  56.515789  87.368421   \n",
       "\n",
       "           taill   footlgth   earconch        eye      chest      belly  \n",
       "Pop                                                                      \n",
       "Vic    36.333333  73.021739  51.758333  14.695833  27.750000  32.541667  \n",
       "other  38.078947  64.378947  44.557895  14.957895  26.815789  33.315789  "
      ]
     },
     "execution_count": 13,
     "metadata": {},
     "output_type": "execute_result"
    }
   ],
   "source": [
    "#Step 2: get the statistics\n",
    "grp.mean()"
   ]
  },
  {
   "cell_type": "code",
   "execution_count": 14,
   "metadata": {},
   "outputs": [
    {
     "data": {
      "text/plain": [
       "Pop\n",
       "Vic      95.9\n",
       "other    96.9\n",
       "Name: hdlngth, dtype: float64"
      ]
     },
     "execution_count": 14,
     "metadata": {},
     "output_type": "execute_result"
    }
   ],
   "source": [
    "# Getting statistics of a single variable\n",
    "grp.hdlngth.max()"
   ]
  },
  {
   "cell_type": "markdown",
   "metadata": {},
   "source": [
    "### Grouping according to multiple variables\n",
    "\n",
    "You can also group by more than one variable"
   ]
  },
  {
   "cell_type": "code",
   "execution_count": 15,
   "metadata": {},
   "outputs": [
    {
     "data": {
      "text/html": [
       "<div>\n",
       "<style scoped>\n",
       "    .dataframe tbody tr th:only-of-type {\n",
       "        vertical-align: middle;\n",
       "    }\n",
       "\n",
       "    .dataframe tbody tr th {\n",
       "        vertical-align: top;\n",
       "    }\n",
       "\n",
       "    .dataframe thead th {\n",
       "        text-align: right;\n",
       "    }\n",
       "</style>\n",
       "<table border=\"1\" class=\"dataframe\">\n",
       "  <thead>\n",
       "    <tr style=\"text-align: right;\">\n",
       "      <th></th>\n",
       "      <th></th>\n",
       "      <th>case</th>\n",
       "      <th>site</th>\n",
       "      <th>age</th>\n",
       "      <th>hdlngth</th>\n",
       "      <th>skullw</th>\n",
       "      <th>totlngth</th>\n",
       "      <th>taill</th>\n",
       "      <th>footlgth</th>\n",
       "      <th>earconch</th>\n",
       "      <th>eye</th>\n",
       "      <th>chest</th>\n",
       "      <th>belly</th>\n",
       "    </tr>\n",
       "    <tr>\n",
       "      <th>Pop</th>\n",
       "      <th>young</th>\n",
       "      <th></th>\n",
       "      <th></th>\n",
       "      <th></th>\n",
       "      <th></th>\n",
       "      <th></th>\n",
       "      <th></th>\n",
       "      <th></th>\n",
       "      <th></th>\n",
       "      <th></th>\n",
       "      <th></th>\n",
       "      <th></th>\n",
       "      <th></th>\n",
       "    </tr>\n",
       "  </thead>\n",
       "  <tbody>\n",
       "    <tr>\n",
       "      <th rowspan=\"2\" valign=\"top\">Vic</th>\n",
       "      <th>False</th>\n",
       "      <td>17.750000</td>\n",
       "      <td>1.125000</td>\n",
       "      <td>5.250000</td>\n",
       "      <td>93.250000</td>\n",
       "      <td>56.875000</td>\n",
       "      <td>90.437500</td>\n",
       "      <td>37.156250</td>\n",
       "      <td>73.953333</td>\n",
       "      <td>51.612500</td>\n",
       "      <td>15.000000</td>\n",
       "      <td>28.062500</td>\n",
       "      <td>33.531250</td>\n",
       "    </tr>\n",
       "    <tr>\n",
       "      <th>True</th>\n",
       "      <td>25.500000</td>\n",
       "      <td>1.375000</td>\n",
       "      <td>1.625000</td>\n",
       "      <td>90.737500</td>\n",
       "      <td>56.187500</td>\n",
       "      <td>84.125000</td>\n",
       "      <td>34.687500</td>\n",
       "      <td>71.275000</td>\n",
       "      <td>52.050000</td>\n",
       "      <td>14.087500</td>\n",
       "      <td>27.125000</td>\n",
       "      <td>30.562500</td>\n",
       "    </tr>\n",
       "    <tr>\n",
       "      <th rowspan=\"2\" valign=\"top\">other</th>\n",
       "      <th>False</th>\n",
       "      <td>72.411765</td>\n",
       "      <td>5.176471</td>\n",
       "      <td>4.117647</td>\n",
       "      <td>91.976471</td>\n",
       "      <td>56.358824</td>\n",
       "      <td>87.323529</td>\n",
       "      <td>38.029412</td>\n",
       "      <td>64.317647</td>\n",
       "      <td>44.476471</td>\n",
       "      <td>14.929412</td>\n",
       "      <td>26.941176</td>\n",
       "      <td>33.617647</td>\n",
       "    </tr>\n",
       "    <tr>\n",
       "      <th>True</th>\n",
       "      <td>74.000000</td>\n",
       "      <td>5.500000</td>\n",
       "      <td>2.000000</td>\n",
       "      <td>90.450000</td>\n",
       "      <td>57.850000</td>\n",
       "      <td>87.750000</td>\n",
       "      <td>38.500000</td>\n",
       "      <td>64.900000</td>\n",
       "      <td>45.250000</td>\n",
       "      <td>15.200000</td>\n",
       "      <td>25.750000</td>\n",
       "      <td>30.750000</td>\n",
       "    </tr>\n",
       "  </tbody>\n",
       "</table>\n",
       "</div>"
      ],
      "text/plain": [
       "                  case      site       age    hdlngth     skullw   totlngth  \\\n",
       "Pop   young                                                                   \n",
       "Vic   False  17.750000  1.125000  5.250000  93.250000  56.875000  90.437500   \n",
       "      True   25.500000  1.375000  1.625000  90.737500  56.187500  84.125000   \n",
       "other False  72.411765  5.176471  4.117647  91.976471  56.358824  87.323529   \n",
       "      True   74.000000  5.500000  2.000000  90.450000  57.850000  87.750000   \n",
       "\n",
       "                 taill   footlgth   earconch        eye      chest      belly  \n",
       "Pop   young                                                                    \n",
       "Vic   False  37.156250  73.953333  51.612500  15.000000  28.062500  33.531250  \n",
       "      True   34.687500  71.275000  52.050000  14.087500  27.125000  30.562500  \n",
       "other False  38.029412  64.317647  44.476471  14.929412  26.941176  33.617647  \n",
       "      True   38.500000  64.900000  45.250000  15.200000  25.750000  30.750000  "
      ]
     },
     "execution_count": 15,
     "metadata": {},
     "output_type": "execute_result"
    }
   ],
   "source": [
    "data['young'] = data.age < 3\n",
    "grp = data.groupby(['Pop','young'])\n",
    "table = grp.mean()\n",
    "table"
   ]
  },
  {
   "cell_type": "code",
   "execution_count": 16,
   "metadata": {},
   "outputs": [
    {
     "data": {
      "text/plain": [
       "Pop    young\n",
       "Vic    False    39.5\n",
       "       True     36.5\n",
       "other  False    41.0\n",
       "       True     39.0\n",
       "Name: taill, dtype: float64"
      ]
     },
     "execution_count": 16,
     "metadata": {},
     "output_type": "execute_result"
    }
   ],
   "source": [
    "grp.taill.max()"
   ]
  },
  {
   "cell_type": "markdown",
   "metadata": {},
   "source": [
    "### Resetting the indices\n",
    "\n",
    "The results of calculating statstics by group, is a dataframe with the grouping variables as indices. This makes it less easy to use the result in subsequent operations."
   ]
  },
  {
   "cell_type": "code",
   "execution_count": 17,
   "metadata": {},
   "outputs": [
    {
     "data": {
      "text/plain": [
       "MultiIndex([(  'Vic', False),\n",
       "            (  'Vic',  True),\n",
       "            ('other', False),\n",
       "            ('other',  True)],\n",
       "           names=['Pop', 'young'])"
      ]
     },
     "execution_count": 17,
     "metadata": {},
     "output_type": "execute_result"
    }
   ],
   "source": [
    "b = grp.taill.max()\n",
    "b.index"
   ]
  },
  {
   "cell_type": "markdown",
   "metadata": {},
   "source": [
    "Using the reset_index() function, the results can be converted to a 'clean' dataframe with only a single, numeric index. The indices will be converted to variables."
   ]
  },
  {
   "cell_type": "code",
   "execution_count": 26,
   "metadata": {},
   "outputs": [
    {
     "name": "stdout",
     "output_type": "stream",
     "text": [
      "MultiIndex([(  'Vic', False),\n",
      "            (  'Vic',  True),\n",
      "            ('other', False),\n",
      "            ('other',  True)],\n",
      "           names=['Pop', 'young'])\n"
     ]
    }
   ],
   "source": [
    "print(table.index)"
   ]
  },
  {
   "cell_type": "code",
   "execution_count": 27,
   "metadata": {},
   "outputs": [
    {
     "data": {
      "text/html": [
       "<div>\n",
       "<style scoped>\n",
       "    .dataframe tbody tr th:only-of-type {\n",
       "        vertical-align: middle;\n",
       "    }\n",
       "\n",
       "    .dataframe tbody tr th {\n",
       "        vertical-align: top;\n",
       "    }\n",
       "\n",
       "    .dataframe thead th {\n",
       "        text-align: right;\n",
       "    }\n",
       "</style>\n",
       "<table border=\"1\" class=\"dataframe\">\n",
       "  <thead>\n",
       "    <tr style=\"text-align: right;\">\n",
       "      <th></th>\n",
       "      <th></th>\n",
       "      <th>case</th>\n",
       "      <th>site</th>\n",
       "      <th>age</th>\n",
       "      <th>hdlngth</th>\n",
       "      <th>skullw</th>\n",
       "      <th>totlngth</th>\n",
       "      <th>taill</th>\n",
       "      <th>footlgth</th>\n",
       "      <th>earconch</th>\n",
       "      <th>eye</th>\n",
       "      <th>chest</th>\n",
       "      <th>belly</th>\n",
       "    </tr>\n",
       "    <tr>\n",
       "      <th>Pop</th>\n",
       "      <th>young</th>\n",
       "      <th></th>\n",
       "      <th></th>\n",
       "      <th></th>\n",
       "      <th></th>\n",
       "      <th></th>\n",
       "      <th></th>\n",
       "      <th></th>\n",
       "      <th></th>\n",
       "      <th></th>\n",
       "      <th></th>\n",
       "      <th></th>\n",
       "      <th></th>\n",
       "    </tr>\n",
       "  </thead>\n",
       "  <tbody>\n",
       "    <tr>\n",
       "      <th rowspan=\"2\" valign=\"top\">Vic</th>\n",
       "      <th>False</th>\n",
       "      <td>17.750000</td>\n",
       "      <td>1.125000</td>\n",
       "      <td>5.250000</td>\n",
       "      <td>93.250000</td>\n",
       "      <td>56.875000</td>\n",
       "      <td>90.437500</td>\n",
       "      <td>37.156250</td>\n",
       "      <td>73.953333</td>\n",
       "      <td>51.612500</td>\n",
       "      <td>15.000000</td>\n",
       "      <td>28.062500</td>\n",
       "      <td>33.531250</td>\n",
       "    </tr>\n",
       "    <tr>\n",
       "      <th>True</th>\n",
       "      <td>25.500000</td>\n",
       "      <td>1.375000</td>\n",
       "      <td>1.625000</td>\n",
       "      <td>90.737500</td>\n",
       "      <td>56.187500</td>\n",
       "      <td>84.125000</td>\n",
       "      <td>34.687500</td>\n",
       "      <td>71.275000</td>\n",
       "      <td>52.050000</td>\n",
       "      <td>14.087500</td>\n",
       "      <td>27.125000</td>\n",
       "      <td>30.562500</td>\n",
       "    </tr>\n",
       "    <tr>\n",
       "      <th rowspan=\"2\" valign=\"top\">other</th>\n",
       "      <th>False</th>\n",
       "      <td>72.411765</td>\n",
       "      <td>5.176471</td>\n",
       "      <td>4.117647</td>\n",
       "      <td>91.976471</td>\n",
       "      <td>56.358824</td>\n",
       "      <td>87.323529</td>\n",
       "      <td>38.029412</td>\n",
       "      <td>64.317647</td>\n",
       "      <td>44.476471</td>\n",
       "      <td>14.929412</td>\n",
       "      <td>26.941176</td>\n",
       "      <td>33.617647</td>\n",
       "    </tr>\n",
       "    <tr>\n",
       "      <th>True</th>\n",
       "      <td>74.000000</td>\n",
       "      <td>5.500000</td>\n",
       "      <td>2.000000</td>\n",
       "      <td>90.450000</td>\n",
       "      <td>57.850000</td>\n",
       "      <td>87.750000</td>\n",
       "      <td>38.500000</td>\n",
       "      <td>64.900000</td>\n",
       "      <td>45.250000</td>\n",
       "      <td>15.200000</td>\n",
       "      <td>25.750000</td>\n",
       "      <td>30.750000</td>\n",
       "    </tr>\n",
       "  </tbody>\n",
       "</table>\n",
       "</div>"
      ],
      "text/plain": [
       "                  case      site       age    hdlngth     skullw   totlngth  \\\n",
       "Pop   young                                                                   \n",
       "Vic   False  17.750000  1.125000  5.250000  93.250000  56.875000  90.437500   \n",
       "      True   25.500000  1.375000  1.625000  90.737500  56.187500  84.125000   \n",
       "other False  72.411765  5.176471  4.117647  91.976471  56.358824  87.323529   \n",
       "      True   74.000000  5.500000  2.000000  90.450000  57.850000  87.750000   \n",
       "\n",
       "                 taill   footlgth   earconch        eye      chest      belly  \n",
       "Pop   young                                                                    \n",
       "Vic   False  37.156250  73.953333  51.612500  15.000000  28.062500  33.531250  \n",
       "      True   34.687500  71.275000  52.050000  14.087500  27.125000  30.562500  \n",
       "other False  38.029412  64.317647  44.476471  14.929412  26.941176  33.617647  \n",
       "      True   38.500000  64.900000  45.250000  15.200000  25.750000  30.750000  "
      ]
     },
     "execution_count": 27,
     "metadata": {},
     "output_type": "execute_result"
    }
   ],
   "source": [
    "table"
   ]
  },
  {
   "cell_type": "code",
   "execution_count": 28,
   "metadata": {},
   "outputs": [
    {
     "data": {
      "text/html": [
       "<div>\n",
       "<style scoped>\n",
       "    .dataframe tbody tr th:only-of-type {\n",
       "        vertical-align: middle;\n",
       "    }\n",
       "\n",
       "    .dataframe tbody tr th {\n",
       "        vertical-align: top;\n",
       "    }\n",
       "\n",
       "    .dataframe thead th {\n",
       "        text-align: right;\n",
       "    }\n",
       "</style>\n",
       "<table border=\"1\" class=\"dataframe\">\n",
       "  <thead>\n",
       "    <tr style=\"text-align: right;\">\n",
       "      <th></th>\n",
       "      <th>Pop</th>\n",
       "      <th>young</th>\n",
       "      <th>case</th>\n",
       "      <th>site</th>\n",
       "      <th>age</th>\n",
       "      <th>hdlngth</th>\n",
       "      <th>skullw</th>\n",
       "      <th>totlngth</th>\n",
       "      <th>taill</th>\n",
       "      <th>footlgth</th>\n",
       "      <th>earconch</th>\n",
       "      <th>eye</th>\n",
       "      <th>chest</th>\n",
       "      <th>belly</th>\n",
       "    </tr>\n",
       "  </thead>\n",
       "  <tbody>\n",
       "    <tr>\n",
       "      <th>0</th>\n",
       "      <td>Vic</td>\n",
       "      <td>False</td>\n",
       "      <td>17.750000</td>\n",
       "      <td>1.125000</td>\n",
       "      <td>5.250000</td>\n",
       "      <td>93.250000</td>\n",
       "      <td>56.875000</td>\n",
       "      <td>90.437500</td>\n",
       "      <td>37.156250</td>\n",
       "      <td>73.953333</td>\n",
       "      <td>51.612500</td>\n",
       "      <td>15.000000</td>\n",
       "      <td>28.062500</td>\n",
       "      <td>33.531250</td>\n",
       "    </tr>\n",
       "    <tr>\n",
       "      <th>1</th>\n",
       "      <td>Vic</td>\n",
       "      <td>True</td>\n",
       "      <td>25.500000</td>\n",
       "      <td>1.375000</td>\n",
       "      <td>1.625000</td>\n",
       "      <td>90.737500</td>\n",
       "      <td>56.187500</td>\n",
       "      <td>84.125000</td>\n",
       "      <td>34.687500</td>\n",
       "      <td>71.275000</td>\n",
       "      <td>52.050000</td>\n",
       "      <td>14.087500</td>\n",
       "      <td>27.125000</td>\n",
       "      <td>30.562500</td>\n",
       "    </tr>\n",
       "    <tr>\n",
       "      <th>2</th>\n",
       "      <td>other</td>\n",
       "      <td>False</td>\n",
       "      <td>72.411765</td>\n",
       "      <td>5.176471</td>\n",
       "      <td>4.117647</td>\n",
       "      <td>91.976471</td>\n",
       "      <td>56.358824</td>\n",
       "      <td>87.323529</td>\n",
       "      <td>38.029412</td>\n",
       "      <td>64.317647</td>\n",
       "      <td>44.476471</td>\n",
       "      <td>14.929412</td>\n",
       "      <td>26.941176</td>\n",
       "      <td>33.617647</td>\n",
       "    </tr>\n",
       "    <tr>\n",
       "      <th>3</th>\n",
       "      <td>other</td>\n",
       "      <td>True</td>\n",
       "      <td>74.000000</td>\n",
       "      <td>5.500000</td>\n",
       "      <td>2.000000</td>\n",
       "      <td>90.450000</td>\n",
       "      <td>57.850000</td>\n",
       "      <td>87.750000</td>\n",
       "      <td>38.500000</td>\n",
       "      <td>64.900000</td>\n",
       "      <td>45.250000</td>\n",
       "      <td>15.200000</td>\n",
       "      <td>25.750000</td>\n",
       "      <td>30.750000</td>\n",
       "    </tr>\n",
       "  </tbody>\n",
       "</table>\n",
       "</div>"
      ],
      "text/plain": [
       "     Pop  young       case      site       age    hdlngth     skullw  \\\n",
       "0    Vic  False  17.750000  1.125000  5.250000  93.250000  56.875000   \n",
       "1    Vic   True  25.500000  1.375000  1.625000  90.737500  56.187500   \n",
       "2  other  False  72.411765  5.176471  4.117647  91.976471  56.358824   \n",
       "3  other   True  74.000000  5.500000  2.000000  90.450000  57.850000   \n",
       "\n",
       "    totlngth      taill   footlgth   earconch        eye      chest      belly  \n",
       "0  90.437500  37.156250  73.953333  51.612500  15.000000  28.062500  33.531250  \n",
       "1  84.125000  34.687500  71.275000  52.050000  14.087500  27.125000  30.562500  \n",
       "2  87.323529  38.029412  64.317647  44.476471  14.929412  26.941176  33.617647  \n",
       "3  87.750000  38.500000  64.900000  45.250000  15.200000  25.750000  30.750000  "
      ]
     },
     "execution_count": 28,
     "metadata": {},
     "output_type": "execute_result"
    }
   ],
   "source": [
    "new = table.reset_index()\n",
    "new"
   ]
  },
  {
   "cell_type": "code",
   "execution_count": 29,
   "metadata": {},
   "outputs": [
    {
     "name": "stdout",
     "output_type": "stream",
     "text": [
      "Index(['Pop', 'young', 'case', 'site', 'age', 'hdlngth', 'skullw', 'totlngth',\n",
      "       'taill', 'footlgth', 'earconch', 'eye', 'chest', 'belly'],\n",
      "      dtype='object')\n"
     ]
    }
   ],
   "source": [
    "print(new.columns)"
   ]
  },
  {
   "cell_type": "markdown",
   "metadata": {},
   "source": [
    "## When not to reset the indices\n",
    "\n",
    "Reseting the indices, converts the grouping variables from indices to plain variables. This means that the data DataFrame \"forgets\" its grouping variables. If you want to select a specific variable from the DataFrame, it might be more useful to do so before resetting the indices."
   ]
  },
  {
   "cell_type": "code",
   "execution_count": 39,
   "metadata": {},
   "outputs": [
    {
     "data": {
      "text/html": [
       "<div>\n",
       "<style scoped>\n",
       "    .dataframe tbody tr th:only-of-type {\n",
       "        vertical-align: middle;\n",
       "    }\n",
       "\n",
       "    .dataframe tbody tr th {\n",
       "        vertical-align: top;\n",
       "    }\n",
       "\n",
       "    .dataframe thead th {\n",
       "        text-align: right;\n",
       "    }\n",
       "</style>\n",
       "<table border=\"1\" class=\"dataframe\">\n",
       "  <thead>\n",
       "    <tr style=\"text-align: right;\">\n",
       "      <th></th>\n",
       "      <th></th>\n",
       "      <th>case</th>\n",
       "      <th>site</th>\n",
       "      <th>age</th>\n",
       "      <th>hdlngth</th>\n",
       "      <th>skullw</th>\n",
       "      <th>totlngth</th>\n",
       "      <th>taill</th>\n",
       "      <th>footlgth</th>\n",
       "      <th>earconch</th>\n",
       "      <th>eye</th>\n",
       "      <th>chest</th>\n",
       "      <th>belly</th>\n",
       "    </tr>\n",
       "    <tr>\n",
       "      <th>Pop</th>\n",
       "      <th>young</th>\n",
       "      <th></th>\n",
       "      <th></th>\n",
       "      <th></th>\n",
       "      <th></th>\n",
       "      <th></th>\n",
       "      <th></th>\n",
       "      <th></th>\n",
       "      <th></th>\n",
       "      <th></th>\n",
       "      <th></th>\n",
       "      <th></th>\n",
       "      <th></th>\n",
       "    </tr>\n",
       "  </thead>\n",
       "  <tbody>\n",
       "    <tr>\n",
       "      <th rowspan=\"2\" valign=\"top\">Vic</th>\n",
       "      <th>False</th>\n",
       "      <td>17.750000</td>\n",
       "      <td>1.125000</td>\n",
       "      <td>5.250000</td>\n",
       "      <td>93.250000</td>\n",
       "      <td>56.875000</td>\n",
       "      <td>90.437500</td>\n",
       "      <td>37.156250</td>\n",
       "      <td>73.953333</td>\n",
       "      <td>51.612500</td>\n",
       "      <td>15.000000</td>\n",
       "      <td>28.062500</td>\n",
       "      <td>33.531250</td>\n",
       "    </tr>\n",
       "    <tr>\n",
       "      <th>True</th>\n",
       "      <td>25.500000</td>\n",
       "      <td>1.375000</td>\n",
       "      <td>1.625000</td>\n",
       "      <td>90.737500</td>\n",
       "      <td>56.187500</td>\n",
       "      <td>84.125000</td>\n",
       "      <td>34.687500</td>\n",
       "      <td>71.275000</td>\n",
       "      <td>52.050000</td>\n",
       "      <td>14.087500</td>\n",
       "      <td>27.125000</td>\n",
       "      <td>30.562500</td>\n",
       "    </tr>\n",
       "    <tr>\n",
       "      <th rowspan=\"2\" valign=\"top\">other</th>\n",
       "      <th>False</th>\n",
       "      <td>72.411765</td>\n",
       "      <td>5.176471</td>\n",
       "      <td>4.117647</td>\n",
       "      <td>91.976471</td>\n",
       "      <td>56.358824</td>\n",
       "      <td>87.323529</td>\n",
       "      <td>38.029412</td>\n",
       "      <td>64.317647</td>\n",
       "      <td>44.476471</td>\n",
       "      <td>14.929412</td>\n",
       "      <td>26.941176</td>\n",
       "      <td>33.617647</td>\n",
       "    </tr>\n",
       "    <tr>\n",
       "      <th>True</th>\n",
       "      <td>74.000000</td>\n",
       "      <td>5.500000</td>\n",
       "      <td>2.000000</td>\n",
       "      <td>90.450000</td>\n",
       "      <td>57.850000</td>\n",
       "      <td>87.750000</td>\n",
       "      <td>38.500000</td>\n",
       "      <td>64.900000</td>\n",
       "      <td>45.250000</td>\n",
       "      <td>15.200000</td>\n",
       "      <td>25.750000</td>\n",
       "      <td>30.750000</td>\n",
       "    </tr>\n",
       "  </tbody>\n",
       "</table>\n",
       "</div>"
      ],
      "text/plain": [
       "                  case      site       age    hdlngth     skullw   totlngth  \\\n",
       "Pop   young                                                                   \n",
       "Vic   False  17.750000  1.125000  5.250000  93.250000  56.875000  90.437500   \n",
       "      True   25.500000  1.375000  1.625000  90.737500  56.187500  84.125000   \n",
       "other False  72.411765  5.176471  4.117647  91.976471  56.358824  87.323529   \n",
       "      True   74.000000  5.500000  2.000000  90.450000  57.850000  87.750000   \n",
       "\n",
       "                 taill   footlgth   earconch        eye      chest      belly  \n",
       "Pop   young                                                                    \n",
       "Vic   False  37.156250  73.953333  51.612500  15.000000  28.062500  33.531250  \n",
       "      True   34.687500  71.275000  52.050000  14.087500  27.125000  30.562500  \n",
       "other False  38.029412  64.317647  44.476471  14.929412  26.941176  33.617647  \n",
       "      True   38.500000  64.900000  45.250000  15.200000  25.750000  30.750000  "
      ]
     },
     "execution_count": 39,
     "metadata": {},
     "output_type": "execute_result"
    }
   ],
   "source": [
    "data['young'] = data.age < 3\n",
    "grp = data.groupby(['Pop','young'])\n",
    "table = grp.mean()\n",
    "table"
   ]
  },
  {
   "cell_type": "code",
   "execution_count": 41,
   "metadata": {},
   "outputs": [
    {
     "data": {
      "text/plain": [
       "Pop    young\n",
       "Vic    False    37.156250\n",
       "       True     34.687500\n",
       "other  False    38.029412\n",
       "       True     38.500000\n",
       "Name: taill, dtype: float64"
      ]
     },
     "execution_count": 41,
     "metadata": {},
     "output_type": "execute_result"
    }
   ],
   "source": [
    "tail_data = table['taill']\n",
    "tail_data"
   ]
  },
  {
   "cell_type": "code",
   "execution_count": 43,
   "metadata": {},
   "outputs": [
    {
     "data": {
      "text/html": [
       "<div>\n",
       "<style scoped>\n",
       "    .dataframe tbody tr th:only-of-type {\n",
       "        vertical-align: middle;\n",
       "    }\n",
       "\n",
       "    .dataframe tbody tr th {\n",
       "        vertical-align: top;\n",
       "    }\n",
       "\n",
       "    .dataframe thead th {\n",
       "        text-align: right;\n",
       "    }\n",
       "</style>\n",
       "<table border=\"1\" class=\"dataframe\">\n",
       "  <thead>\n",
       "    <tr style=\"text-align: right;\">\n",
       "      <th></th>\n",
       "      <th>Pop</th>\n",
       "      <th>young</th>\n",
       "      <th>taill</th>\n",
       "    </tr>\n",
       "  </thead>\n",
       "  <tbody>\n",
       "    <tr>\n",
       "      <th>0</th>\n",
       "      <td>Vic</td>\n",
       "      <td>False</td>\n",
       "      <td>37.156250</td>\n",
       "    </tr>\n",
       "    <tr>\n",
       "      <th>1</th>\n",
       "      <td>Vic</td>\n",
       "      <td>True</td>\n",
       "      <td>34.687500</td>\n",
       "    </tr>\n",
       "    <tr>\n",
       "      <th>2</th>\n",
       "      <td>other</td>\n",
       "      <td>False</td>\n",
       "      <td>38.029412</td>\n",
       "    </tr>\n",
       "    <tr>\n",
       "      <th>3</th>\n",
       "      <td>other</td>\n",
       "      <td>True</td>\n",
       "      <td>38.500000</td>\n",
       "    </tr>\n",
       "  </tbody>\n",
       "</table>\n",
       "</div>"
      ],
      "text/plain": [
       "     Pop  young      taill\n",
       "0    Vic  False  37.156250\n",
       "1    Vic   True  34.687500\n",
       "2  other  False  38.029412\n",
       "3  other   True  38.500000"
      ]
     },
     "execution_count": 43,
     "metadata": {},
     "output_type": "execute_result"
    }
   ],
   "source": [
    "tail_data.reset_index()"
   ]
  },
  {
   "cell_type": "markdown",
   "metadata": {},
   "source": [
    "### Using the ```stats``` module\n",
    "\n"
   ]
  },
  {
   "cell_type": "markdown",
   "metadata": {},
   "source": [
    "The ```stats``` module contains a function ```group()``` that simplifies getting group statistics from a dataframe. You can use this module, if you like (it is available from the the course Github page: [https://github.com/dvanderelst-python-class/python-class/tree/spring2021/class_code](https://github.com/dvanderelst-python-class/python-class/tree/spring2021/class_code))."
   ]
  },
  {
   "cell_type": "code",
   "execution_count": 18,
   "metadata": {},
   "outputs": [
    {
     "data": {
      "text/html": [
       "<div>\n",
       "<style scoped>\n",
       "    .dataframe tbody tr th:only-of-type {\n",
       "        vertical-align: middle;\n",
       "    }\n",
       "\n",
       "    .dataframe tbody tr th {\n",
       "        vertical-align: top;\n",
       "    }\n",
       "\n",
       "    .dataframe thead th {\n",
       "        text-align: right;\n",
       "    }\n",
       "</style>\n",
       "<table border=\"1\" class=\"dataframe\">\n",
       "  <thead>\n",
       "    <tr style=\"text-align: right;\">\n",
       "      <th></th>\n",
       "      <th>sex</th>\n",
       "      <th>age</th>\n",
       "      <th>case</th>\n",
       "      <th>site</th>\n",
       "      <th>hdlngth</th>\n",
       "      <th>skullw</th>\n",
       "      <th>totlngth</th>\n",
       "      <th>taill</th>\n",
       "      <th>footlgth</th>\n",
       "      <th>earconch</th>\n",
       "      <th>eye</th>\n",
       "      <th>chest</th>\n",
       "      <th>belly</th>\n",
       "      <th>young</th>\n",
       "    </tr>\n",
       "  </thead>\n",
       "  <tbody>\n",
       "    <tr>\n",
       "      <th>0</th>\n",
       "      <td>f</td>\n",
       "      <td>1</td>\n",
       "      <td>20.666667</td>\n",
       "      <td>1.333333</td>\n",
       "      <td>90.833333</td>\n",
       "      <td>58.000000</td>\n",
       "      <td>85.000000</td>\n",
       "      <td>35.333333</td>\n",
       "      <td>71.700000</td>\n",
       "      <td>53.400000</td>\n",
       "      <td>13.966667</td>\n",
       "      <td>28.000000</td>\n",
       "      <td>29.333333</td>\n",
       "      <td>True</td>\n",
       "    </tr>\n",
       "    <tr>\n",
       "      <th>1</th>\n",
       "      <td>f</td>\n",
       "      <td>2</td>\n",
       "      <td>41.428571</td>\n",
       "      <td>2.571429</td>\n",
       "      <td>90.614286</td>\n",
       "      <td>55.885714</td>\n",
       "      <td>84.785714</td>\n",
       "      <td>35.500000</td>\n",
       "      <td>69.271429</td>\n",
       "      <td>49.528571</td>\n",
       "      <td>14.457143</td>\n",
       "      <td>26.357143</td>\n",
       "      <td>31.142857</td>\n",
       "      <td>True</td>\n",
       "    </tr>\n",
       "    <tr>\n",
       "      <th>2</th>\n",
       "      <td>f</td>\n",
       "      <td>3</td>\n",
       "      <td>64.272727</td>\n",
       "      <td>4.363636</td>\n",
       "      <td>92.409091</td>\n",
       "      <td>56.418182</td>\n",
       "      <td>88.136364</td>\n",
       "      <td>37.772727</td>\n",
       "      <td>67.218182</td>\n",
       "      <td>46.318182</td>\n",
       "      <td>14.863636</td>\n",
       "      <td>26.681818</td>\n",
       "      <td>33.000000</td>\n",
       "      <td>False</td>\n",
       "    </tr>\n",
       "    <tr>\n",
       "      <th>3</th>\n",
       "      <td>f</td>\n",
       "      <td>4</td>\n",
       "      <td>48.000000</td>\n",
       "      <td>3.166667</td>\n",
       "      <td>91.900000</td>\n",
       "      <td>55.750000</td>\n",
       "      <td>88.333333</td>\n",
       "      <td>38.083333</td>\n",
       "      <td>68.466667</td>\n",
       "      <td>48.633333</td>\n",
       "      <td>15.066667</td>\n",
       "      <td>27.666667</td>\n",
       "      <td>35.000000</td>\n",
       "      <td>False</td>\n",
       "    </tr>\n",
       "    <tr>\n",
       "      <th>4</th>\n",
       "      <td>f</td>\n",
       "      <td>5</td>\n",
       "      <td>39.666667</td>\n",
       "      <td>2.500000</td>\n",
       "      <td>93.066667</td>\n",
       "      <td>56.900000</td>\n",
       "      <td>87.833333</td>\n",
       "      <td>36.500000</td>\n",
       "      <td>68.460000</td>\n",
       "      <td>46.333333</td>\n",
       "      <td>15.450000</td>\n",
       "      <td>28.000000</td>\n",
       "      <td>34.750000</td>\n",
       "      <td>False</td>\n",
       "    </tr>\n",
       "  </tbody>\n",
       "</table>\n",
       "</div>"
      ],
      "text/plain": [
       "  sex  age       case      site    hdlngth     skullw   totlngth      taill  \\\n",
       "0   f    1  20.666667  1.333333  90.833333  58.000000  85.000000  35.333333   \n",
       "1   f    2  41.428571  2.571429  90.614286  55.885714  84.785714  35.500000   \n",
       "2   f    3  64.272727  4.363636  92.409091  56.418182  88.136364  37.772727   \n",
       "3   f    4  48.000000  3.166667  91.900000  55.750000  88.333333  38.083333   \n",
       "4   f    5  39.666667  2.500000  93.066667  56.900000  87.833333  36.500000   \n",
       "\n",
       "    footlgth   earconch        eye      chest      belly  young  \n",
       "0  71.700000  53.400000  13.966667  28.000000  29.333333   True  \n",
       "1  69.271429  49.528571  14.457143  26.357143  31.142857   True  \n",
       "2  67.218182  46.318182  14.863636  26.681818  33.000000  False  \n",
       "3  68.466667  48.633333  15.066667  27.666667  35.000000  False  \n",
       "4  68.460000  46.333333  15.450000  28.000000  34.750000  False  "
      ]
     },
     "execution_count": 18,
     "metadata": {},
     "output_type": "execute_result"
    }
   ],
   "source": [
    "# These lines are needed on my computer to be able to import the stats module. \n",
    "# You should place the stats.py file in your working directory.\n",
    "import sys\n",
    "sys.path.append('/home/dieter/Dropbox/Python-Class/class_code')\n",
    "# end of code specific to my computer\n",
    "\n",
    "import stats\n",
    "result = stats.group(data, ['sex', 'Age'], 'mean')\n",
    "result.head()"
   ]
  },
  {
   "cell_type": "code",
   "execution_count": 32,
   "metadata": {},
   "outputs": [
    {
     "data": {
      "text/html": [
       "<div>\n",
       "<style scoped>\n",
       "    .dataframe tbody tr th:only-of-type {\n",
       "        vertical-align: middle;\n",
       "    }\n",
       "\n",
       "    .dataframe tbody tr th {\n",
       "        vertical-align: top;\n",
       "    }\n",
       "\n",
       "    .dataframe thead th {\n",
       "        text-align: right;\n",
       "    }\n",
       "</style>\n",
       "<table border=\"1\" class=\"dataframe\">\n",
       "  <thead>\n",
       "    <tr style=\"text-align: right;\">\n",
       "      <th></th>\n",
       "      <th>sex</th>\n",
       "      <th>age</th>\n",
       "      <th>case</th>\n",
       "      <th>site</th>\n",
       "      <th>hdlngth</th>\n",
       "      <th>skullw</th>\n",
       "      <th>totlngth</th>\n",
       "      <th>taill</th>\n",
       "      <th>footlgth</th>\n",
       "      <th>earconch</th>\n",
       "      <th>eye</th>\n",
       "      <th>chest</th>\n",
       "      <th>belly</th>\n",
       "      <th>young</th>\n",
       "    </tr>\n",
       "  </thead>\n",
       "  <tbody>\n",
       "    <tr>\n",
       "      <th>0</th>\n",
       "      <td>f</td>\n",
       "      <td>1</td>\n",
       "      <td>16.802778</td>\n",
       "      <td>0.577350</td>\n",
       "      <td>5.371530</td>\n",
       "      <td>8.560958</td>\n",
       "      <td>8.674676</td>\n",
       "      <td>1.258306</td>\n",
       "      <td>2.598076</td>\n",
       "      <td>0.200000</td>\n",
       "      <td>0.873689</td>\n",
       "      <td>2.645751</td>\n",
       "      <td>3.785939</td>\n",
       "      <td>0.0</td>\n",
       "    </tr>\n",
       "    <tr>\n",
       "      <th>1</th>\n",
       "      <td>f</td>\n",
       "      <td>2</td>\n",
       "      <td>26.462912</td>\n",
       "      <td>2.225395</td>\n",
       "      <td>1.049490</td>\n",
       "      <td>1.493797</td>\n",
       "      <td>2.530763</td>\n",
       "      <td>2.432420</td>\n",
       "      <td>3.206095</td>\n",
       "      <td>3.305911</td>\n",
       "      <td>0.886674</td>\n",
       "      <td>2.230738</td>\n",
       "      <td>1.749149</td>\n",
       "      <td>0.0</td>\n",
       "    </tr>\n",
       "    <tr>\n",
       "      <th>2</th>\n",
       "      <td>f</td>\n",
       "      <td>3</td>\n",
       "      <td>27.291357</td>\n",
       "      <td>2.248232</td>\n",
       "      <td>2.568445</td>\n",
       "      <td>2.002907</td>\n",
       "      <td>3.918488</td>\n",
       "      <td>1.633457</td>\n",
       "      <td>5.676939</td>\n",
       "      <td>3.909685</td>\n",
       "      <td>1.246814</td>\n",
       "      <td>1.692228</td>\n",
       "      <td>2.924038</td>\n",
       "      <td>0.0</td>\n",
       "    </tr>\n",
       "    <tr>\n",
       "      <th>3</th>\n",
       "      <td>f</td>\n",
       "      <td>4</td>\n",
       "      <td>26.750701</td>\n",
       "      <td>2.483277</td>\n",
       "      <td>3.736844</td>\n",
       "      <td>2.520913</td>\n",
       "      <td>4.966555</td>\n",
       "      <td>1.800463</td>\n",
       "      <td>6.289568</td>\n",
       "      <td>4.444172</td>\n",
       "      <td>0.422690</td>\n",
       "      <td>1.861899</td>\n",
       "      <td>2.366432</td>\n",
       "      <td>0.0</td>\n",
       "    </tr>\n",
       "    <tr>\n",
       "      <th>4</th>\n",
       "      <td>f</td>\n",
       "      <td>5</td>\n",
       "      <td>20.353542</td>\n",
       "      <td>1.516575</td>\n",
       "      <td>2.671080</td>\n",
       "      <td>1.532319</td>\n",
       "      <td>3.356586</td>\n",
       "      <td>1.264911</td>\n",
       "      <td>4.087542</td>\n",
       "      <td>5.358607</td>\n",
       "      <td>1.139737</td>\n",
       "      <td>0.632456</td>\n",
       "      <td>3.416870</td>\n",
       "      <td>0.0</td>\n",
       "    </tr>\n",
       "  </tbody>\n",
       "</table>\n",
       "</div>"
      ],
      "text/plain": [
       "  sex  age       case      site   hdlngth    skullw  totlngth     taill  \\\n",
       "0   f    1  16.802778  0.577350  5.371530  8.560958  8.674676  1.258306   \n",
       "1   f    2  26.462912  2.225395  1.049490  1.493797  2.530763  2.432420   \n",
       "2   f    3  27.291357  2.248232  2.568445  2.002907  3.918488  1.633457   \n",
       "3   f    4  26.750701  2.483277  3.736844  2.520913  4.966555  1.800463   \n",
       "4   f    5  20.353542  1.516575  2.671080  1.532319  3.356586  1.264911   \n",
       "\n",
       "   footlgth  earconch       eye     chest     belly  young  \n",
       "0  2.598076  0.200000  0.873689  2.645751  3.785939    0.0  \n",
       "1  3.206095  3.305911  0.886674  2.230738  1.749149    0.0  \n",
       "2  5.676939  3.909685  1.246814  1.692228  2.924038    0.0  \n",
       "3  6.289568  4.444172  0.422690  1.861899  2.366432    0.0  \n",
       "4  4.087542  5.358607  1.139737  0.632456  3.416870    0.0  "
      ]
     },
     "execution_count": 32,
     "metadata": {},
     "output_type": "execute_result"
    }
   ],
   "source": [
    "result = stats.group(data, ['sex', 'Age'], 'std')\n",
    "result.head()"
   ]
  },
  {
   "cell_type": "code",
   "execution_count": 34,
   "metadata": {},
   "outputs": [
    {
     "name": "stdout",
     "output_type": "stream",
     "text": [
      "Warning: Can not find variable gender\n"
     ]
    },
    {
     "data": {
      "text/html": [
       "<div>\n",
       "<style scoped>\n",
       "    .dataframe tbody tr th:only-of-type {\n",
       "        vertical-align: middle;\n",
       "    }\n",
       "\n",
       "    .dataframe tbody tr th {\n",
       "        vertical-align: top;\n",
       "    }\n",
       "\n",
       "    .dataframe thead th {\n",
       "        text-align: right;\n",
       "    }\n",
       "</style>\n",
       "<table border=\"1\" class=\"dataframe\">\n",
       "  <thead>\n",
       "    <tr style=\"text-align: right;\">\n",
       "      <th></th>\n",
       "      <th>age</th>\n",
       "      <th>case</th>\n",
       "      <th>site</th>\n",
       "      <th>hdlngth</th>\n",
       "      <th>skullw</th>\n",
       "      <th>totlngth</th>\n",
       "      <th>taill</th>\n",
       "      <th>footlgth</th>\n",
       "      <th>earconch</th>\n",
       "      <th>eye</th>\n",
       "      <th>chest</th>\n",
       "      <th>belly</th>\n",
       "      <th>young</th>\n",
       "    </tr>\n",
       "  </thead>\n",
       "  <tbody>\n",
       "    <tr>\n",
       "      <th>0</th>\n",
       "      <td>1</td>\n",
       "      <td>16.802778</td>\n",
       "      <td>0.577350</td>\n",
       "      <td>5.371530</td>\n",
       "      <td>8.560958</td>\n",
       "      <td>8.674676</td>\n",
       "      <td>1.258306</td>\n",
       "      <td>2.598076</td>\n",
       "      <td>0.200000</td>\n",
       "      <td>0.873689</td>\n",
       "      <td>2.645751</td>\n",
       "      <td>3.785939</td>\n",
       "      <td>0.0</td>\n",
       "    </tr>\n",
       "    <tr>\n",
       "      <th>1</th>\n",
       "      <td>2</td>\n",
       "      <td>26.462912</td>\n",
       "      <td>2.225395</td>\n",
       "      <td>1.049490</td>\n",
       "      <td>1.493797</td>\n",
       "      <td>2.530763</td>\n",
       "      <td>2.432420</td>\n",
       "      <td>3.206095</td>\n",
       "      <td>3.305911</td>\n",
       "      <td>0.886674</td>\n",
       "      <td>2.230738</td>\n",
       "      <td>1.749149</td>\n",
       "      <td>0.0</td>\n",
       "    </tr>\n",
       "    <tr>\n",
       "      <th>2</th>\n",
       "      <td>3</td>\n",
       "      <td>27.291357</td>\n",
       "      <td>2.248232</td>\n",
       "      <td>2.568445</td>\n",
       "      <td>2.002907</td>\n",
       "      <td>3.918488</td>\n",
       "      <td>1.633457</td>\n",
       "      <td>5.676939</td>\n",
       "      <td>3.909685</td>\n",
       "      <td>1.246814</td>\n",
       "      <td>1.692228</td>\n",
       "      <td>2.924038</td>\n",
       "      <td>0.0</td>\n",
       "    </tr>\n",
       "    <tr>\n",
       "      <th>3</th>\n",
       "      <td>4</td>\n",
       "      <td>26.750701</td>\n",
       "      <td>2.483277</td>\n",
       "      <td>3.736844</td>\n",
       "      <td>2.520913</td>\n",
       "      <td>4.966555</td>\n",
       "      <td>1.800463</td>\n",
       "      <td>6.289568</td>\n",
       "      <td>4.444172</td>\n",
       "      <td>0.422690</td>\n",
       "      <td>1.861899</td>\n",
       "      <td>2.366432</td>\n",
       "      <td>0.0</td>\n",
       "    </tr>\n",
       "    <tr>\n",
       "      <th>4</th>\n",
       "      <td>5</td>\n",
       "      <td>20.353542</td>\n",
       "      <td>1.516575</td>\n",
       "      <td>2.671080</td>\n",
       "      <td>1.532319</td>\n",
       "      <td>3.356586</td>\n",
       "      <td>1.264911</td>\n",
       "      <td>4.087542</td>\n",
       "      <td>5.358607</td>\n",
       "      <td>1.139737</td>\n",
       "      <td>0.632456</td>\n",
       "      <td>3.416870</td>\n",
       "      <td>0.0</td>\n",
       "    </tr>\n",
       "  </tbody>\n",
       "</table>\n",
       "</div>"
      ],
      "text/plain": [
       "   age       case      site   hdlngth    skullw  totlngth     taill  footlgth  \\\n",
       "0    1  16.802778  0.577350  5.371530  8.560958  8.674676  1.258306  2.598076   \n",
       "1    2  26.462912  2.225395  1.049490  1.493797  2.530763  2.432420  3.206095   \n",
       "2    3  27.291357  2.248232  2.568445  2.002907  3.918488  1.633457  5.676939   \n",
       "3    4  26.750701  2.483277  3.736844  2.520913  4.966555  1.800463  6.289568   \n",
       "4    5  20.353542  1.516575  2.671080  1.532319  3.356586  1.264911  4.087542   \n",
       "\n",
       "   earconch       eye     chest     belly  young  \n",
       "0  0.200000  0.873689  2.645751  3.785939    0.0  \n",
       "1  3.305911  0.886674  2.230738  1.749149    0.0  \n",
       "2  3.909685  1.246814  1.692228  2.924038    0.0  \n",
       "3  4.444172  0.422690  1.861899  2.366432    0.0  \n",
       "4  5.358607  1.139737  0.632456  3.416870    0.0  "
      ]
     },
     "execution_count": 34,
     "metadata": {},
     "output_type": "execute_result"
    }
   ],
   "source": [
    "result = stats.group(data, ['gender', 'Age'], 'std')\n",
    "result.head()"
   ]
  },
  {
   "cell_type": "markdown",
   "metadata": {},
   "source": [
    "## Reorganizing a dataframe"
   ]
  },
  {
   "cell_type": "code",
   "execution_count": 35,
   "metadata": {},
   "outputs": [
    {
     "data": {
      "text/html": [
       "<div>\n",
       "<style scoped>\n",
       "    .dataframe tbody tr th:only-of-type {\n",
       "        vertical-align: middle;\n",
       "    }\n",
       "\n",
       "    .dataframe tbody tr th {\n",
       "        vertical-align: top;\n",
       "    }\n",
       "\n",
       "    .dataframe thead th {\n",
       "        text-align: right;\n",
       "    }\n",
       "</style>\n",
       "<table border=\"1\" class=\"dataframe\">\n",
       "  <thead>\n",
       "    <tr style=\"text-align: right;\">\n",
       "      <th>Pop</th>\n",
       "      <th>Vic</th>\n",
       "      <th>other</th>\n",
       "    </tr>\n",
       "    <tr>\n",
       "      <th>young</th>\n",
       "      <th></th>\n",
       "      <th></th>\n",
       "    </tr>\n",
       "  </thead>\n",
       "  <tbody>\n",
       "    <tr>\n",
       "      <th>False</th>\n",
       "      <td>73.953333</td>\n",
       "      <td>64.317647</td>\n",
       "    </tr>\n",
       "    <tr>\n",
       "      <th>True</th>\n",
       "      <td>71.275000</td>\n",
       "      <td>64.900000</td>\n",
       "    </tr>\n",
       "  </tbody>\n",
       "</table>\n",
       "</div>"
      ],
      "text/plain": [
       "Pop          Vic      other\n",
       "young                      \n",
       "False  73.953333  64.317647\n",
       "True   71.275000  64.900000"
      ]
     },
     "execution_count": 35,
     "metadata": {},
     "output_type": "execute_result"
    }
   ],
   "source": [
    "c = new.pivot(index='young',columns='Pop', values='footlgth')\n",
    "c"
   ]
  },
  {
   "cell_type": "markdown",
   "metadata": {},
   "source": [
    "# Exercises\n",
    "\n",
    "Use the following data for this quiz: `pizzasize.csv` (in the Data folder). The data give the diameters of 250 pizzas, 125 each from two pizza chains, for a variety of crust types and toppings.\n",
    "\n",
    "## Exercise 1\n",
    "\n",
    " Write code that creates a dataframe (table) that lists for each `store` and each `CrustDescription`, the **average pizza diameter**.\n",
    "\n",
    " ## Exercise 2\n",
    "\n",
    " Write code that creates a dataframe (table) that lists for each `store` and each `CrustDescription`, the **maximum pizza diameter**.\n",
    "\n",
    "## Exercises 3\n",
    "\n",
    "Write code that creates a dataframe (table) that lists for each `store` and each `CrustDescription`, the **average pizza area**. Reorganize the table to have  `CrustDescription` as rows and `store` as columns."
   ]
  }
 ],
 "metadata": {
  "kernelspec": {
   "display_name": "Python 3",
   "language": "python",
   "name": "python3"
  },
  "language_info": {
   "codemirror_mode": {
    "name": "ipython",
    "version": 3
   },
   "file_extension": ".py",
   "mimetype": "text/x-python",
   "name": "python",
   "nbconvert_exporter": "python",
   "pygments_lexer": "ipython3",
   "version": "3.7.8"
  },
  "toc": {
   "base_numbering": 1,
   "nav_menu": {
    "height": "66px",
    "width": "252px"
   },
   "number_sections": false,
   "sideBar": true,
   "skip_h1_title": true,
   "title_cell": "Table of Contents",
   "title_sidebar": "Contents",
   "toc_cell": true,
   "toc_position": {
    "height": "522px",
    "left": "0px",
    "right": "836px",
    "top": "107px",
    "width": "304px"
   },
   "toc_section_display": "block",
   "toc_window_display": true
  }
 },
 "nbformat": 4,
 "nbformat_minor": 2
}
